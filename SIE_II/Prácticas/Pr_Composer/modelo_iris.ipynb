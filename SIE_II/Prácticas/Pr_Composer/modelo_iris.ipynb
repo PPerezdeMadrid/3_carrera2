{
 "cells": [
  {
   "cell_type": "markdown",
   "metadata": {},
   "source": [
    "# 0.- Importamos librerías\n",
    "\n",
    "Aunque en `py` lo más eficiente es importar las librerías según se utilicen, por motivos de legibilidad y orden, paso a importarlos al principio del presente `notebook`\n"
   ]
  },
  {
   "cell_type": "code",
   "execution_count": 2,
   "metadata": {},
   "outputs": [
    {
     "name": "stdout",
     "output_type": "stream",
     "text": [
      "Collecting matplotlib==3.4.0\n",
      "  Downloading matplotlib-3.4.0-cp39-cp39-manylinux1_x86_64.whl (10.3 MB)\n",
      "\u001b[K     |████████████████████████████████| 10.3 MB 10.5 MB/s eta 0:00:01\n",
      "\u001b[?25hCollecting seaborn==0.11.1\n",
      "  Downloading seaborn-0.11.1-py3-none-any.whl (285 kB)\n",
      "\u001b[K     |████████████████████████████████| 285 kB 75.3 MB/s eta 0:00:01\n",
      "\u001b[?25hCollecting scikit-learn==0.24.2\n",
      "  Downloading scikit_learn-0.24.2-cp39-cp39-manylinux2010_x86_64.whl (23.8 MB)\n",
      "\u001b[K     |████████████████████████████████| 23.8 MB 39.6 MB/s eta 0:00:01     |███████████████████████         | 17.1 MB 39.6 MB/s eta 0:00:01\n",
      "\u001b[?25hCollecting numpy==1.21.0\n",
      "  Downloading numpy-1.21.0-cp39-cp39-manylinux_2_12_x86_64.manylinux2010_x86_64.whl (15.7 MB)\n",
      "\u001b[K     |████████████████████████████████| 15.7 MB 45.0 MB/s eta 0:00:01\n",
      "\u001b[?25hCollecting scipy==1.7.0\n",
      "  Downloading scipy-1.7.0-cp39-cp39-manylinux_2_5_x86_64.manylinux1_x86_64.whl (28.4 MB)\n",
      "\u001b[K     |████████████████████████████████| 28.4 MB 50.9 MB/s eta 0:00:01\n",
      "\u001b[?25hCollecting bayesian-optimization==1.2.0\n",
      "  Downloading bayesian-optimization-1.2.0.tar.gz (14 kB)\n",
      "Collecting h2o==3.36.0.3\n",
      "  Downloading h2o-3.36.0.3.tar.gz (176.2 MB)\n",
      "\u001b[K     |████████████████████████████████| 176.2 MB 24 kB/s  eta 0:00:011     |████████████████████████████▋   | 157.8 MB 313 kB/s eta 0:00:59\n",
      "\u001b[?25hRequirement already satisfied: requests in /usr/local/lib/python3.9/dist-packages (from h2o==3.36.0.3->-r requirements.txt (line 7)) (2.31.0)\n",
      "Collecting tabulate\n",
      "  Downloading tabulate-0.9.0-py3-none-any.whl (35 kB)\n",
      "Collecting future\n",
      "  Downloading future-1.0.0-py3-none-any.whl (491 kB)\n",
      "\u001b[K     |████████████████████████████████| 491 kB 62.6 MB/s eta 0:00:01\n",
      "\u001b[?25hRequirement already satisfied: pyparsing>=2.2.1 in /usr/local/lib/python3.9/dist-packages (from matplotlib==3.4.0->-r requirements.txt (line 1)) (3.1.2)\n",
      "Collecting kiwisolver>=1.0.1\n",
      "  Downloading kiwisolver-1.4.5-cp39-cp39-manylinux_2_12_x86_64.manylinux2010_x86_64.whl (1.6 MB)\n",
      "\u001b[K     |████████████████████████████████| 1.6 MB 45.9 MB/s eta 0:00:01\n",
      "\u001b[?25hCollecting pillow>=6.2.0\n",
      "  Downloading pillow-10.3.0-cp39-cp39-manylinux_2_28_x86_64.whl (4.5 MB)\n",
      "\u001b[K     |████████████████████████████████| 4.5 MB 28.4 MB/s eta 0:00:01\n",
      "\u001b[?25hRequirement already satisfied: python-dateutil>=2.7 in /usr/local/lib/python3.9/dist-packages (from matplotlib==3.4.0->-r requirements.txt (line 1)) (2.9.0.post0)\n",
      "Collecting cycler>=0.10\n",
      "  Downloading cycler-0.12.1-py3-none-any.whl (8.3 kB)\n",
      "Collecting threadpoolctl>=2.0.0\n",
      "  Downloading threadpoolctl-3.4.0-py3-none-any.whl (17 kB)\n",
      "Collecting joblib>=0.11\n",
      "  Downloading joblib-1.4.0-py3-none-any.whl (301 kB)\n",
      "\u001b[K     |████████████████████████████████| 301 kB 43.9 MB/s eta 0:00:01\n",
      "\u001b[?25hRequirement already satisfied: pandas>=0.23 in /home/cmoragoncorella/.local/lib/python3.9/site-packages (from seaborn==0.11.1->-r requirements.txt (line 2)) (2.2.1)\n",
      "Requirement already satisfied: pytz>=2020.1 in /home/cmoragoncorella/.local/lib/python3.9/site-packages (from pandas>=0.23->seaborn==0.11.1->-r requirements.txt (line 2)) (2024.1)\n",
      "Collecting pandas>=0.23\n",
      "  Using cached pandas-2.2.1-cp39-cp39-manylinux_2_17_x86_64.manylinux2014_x86_64.whl (13.0 MB)\n",
      "  Downloading pandas-2.2.0-cp39-cp39-manylinux_2_17_x86_64.manylinux2014_x86_64.whl (13.0 MB)\n",
      "\u001b[K     |████████████████████████████████| 13.0 MB 36.5 MB/s eta 0:00:01\n",
      "\u001b[?25h  Downloading pandas-2.1.4-cp39-cp39-manylinux_2_17_x86_64.manylinux2014_x86_64.whl (12.3 MB)\n",
      "\u001b[K     |████████████████████████████████| 12.3 MB 26.6 MB/s eta 0:00:01\n",
      "\u001b[?25h  Downloading pandas-2.1.3-cp39-cp39-manylinux_2_17_x86_64.manylinux2014_x86_64.whl (12.3 MB)\n",
      "\u001b[K     |████████████████████████████████| 12.3 MB 23.9 MB/s eta 0:00:01\n",
      "\u001b[?25h  Downloading pandas-2.1.2-cp39-cp39-manylinux_2_17_x86_64.manylinux2014_x86_64.whl (12.3 MB)\n",
      "\u001b[K     |████████████████████████████████| 12.3 MB 40.6 MB/s eta 0:00:01\n",
      "\u001b[?25h  Downloading pandas-2.1.1-cp39-cp39-manylinux_2_17_x86_64.manylinux2014_x86_64.whl (12.3 MB)\n",
      "\u001b[K     |████████████████████████████████| 12.3 MB 34.3 MB/s eta 0:00:01\n",
      "\u001b[?25hRequirement already satisfied: tzdata>=2022.1 in /home/cmoragoncorella/.local/lib/python3.9/site-packages (from pandas>=0.23->seaborn==0.11.1->-r requirements.txt (line 2)) (2024.1)\n",
      "  Downloading pandas-2.1.0-cp39-cp39-manylinux_2_17_x86_64.manylinux2014_x86_64.whl (12.7 MB)\n",
      "\u001b[K     |████████████████████████████████| 12.7 MB 25.2 MB/s eta 0:00:01\n",
      "\u001b[?25h  Downloading pandas-2.0.3-cp39-cp39-manylinux_2_17_x86_64.manylinux2014_x86_64.whl (12.4 MB)\n",
      "\u001b[K     |████████████████████████████████| 12.4 MB 22.5 MB/s eta 0:00:01\n",
      "\u001b[?25hRequirement already satisfied: six>=1.5 in /usr/local/lib/python3.9/dist-packages (from python-dateutil>=2.7->matplotlib==3.4.0->-r requirements.txt (line 1)) (1.16.0)\n",
      "Requirement already satisfied: idna<4,>=2.5 in /usr/local/lib/python3.9/dist-packages (from requests->h2o==3.36.0.3->-r requirements.txt (line 7)) (3.6)\n",
      "Requirement already satisfied: charset-normalizer<4,>=2 in /usr/local/lib/python3.9/dist-packages (from requests->h2o==3.36.0.3->-r requirements.txt (line 7)) (3.3.2)\n",
      "Requirement already satisfied: urllib3<3,>=1.21.1 in /usr/local/lib/python3.9/dist-packages (from requests->h2o==3.36.0.3->-r requirements.txt (line 7)) (2.2.1)\n",
      "Requirement already satisfied: certifi>=2017.4.17 in /usr/local/lib/python3.9/dist-packages (from requests->h2o==3.36.0.3->-r requirements.txt (line 7)) (2024.2.2)\n",
      "Building wheels for collected packages: bayesian-optimization, h2o\n",
      "  Building wheel for bayesian-optimization (setup.py) ... \u001b[?25ldone\n",
      "\u001b[?25h  Created wheel for bayesian-optimization: filename=bayesian_optimization-1.2.0-py3-none-any.whl size=11662 sha256=0a90d077649a98501f8d38b504ee4818f78bcfd2d9200518742084ea6f5ccccb\n",
      "  Stored in directory: /home/cmoragoncorella/.cache/pip/wheels/14/98/74/190efced439ab92ca551550906290338ba5b64cfc9d0927765\n",
      "  Building wheel for h2o (setup.py) ... \u001b[?25ldone\n",
      "\u001b[?25h  Created wheel for h2o: filename=h2o-3.36.0.3-py2.py3-none-any.whl size=176244290 sha256=d6e261b68c960028e4c83ea4c2a8e35133de24ed50e1d54f00dcd32f1a550d6c\n",
      "  Stored in directory: /home/cmoragoncorella/.cache/pip/wheels/9c/1f/dd/c8ec790ee7cb1634c2af578847aaf6cbdda0ebbd8530ad623a\n",
      "Successfully built bayesian-optimization h2o\n",
      "Installing collected packages: numpy, threadpoolctl, scipy, pillow, kiwisolver, joblib, cycler, tabulate, scikit-learn, pandas, matplotlib, future, seaborn, h2o, bayesian-optimization\n",
      "  Attempting uninstall: pandas\n",
      "    Found existing installation: pandas 2.2.1\n",
      "    Uninstalling pandas-2.2.1:\n",
      "      Successfully uninstalled pandas-2.2.1\n",
      "\u001b[31mERROR: pip's dependency resolver does not currently take into account all the packages that are installed. This behaviour is the source of the following dependency conflicts.\n",
      "tensorflow 2.16.1 requires numpy<2.0.0,>=1.23.5; python_version <= \"3.11\", but you have numpy 1.21.0 which is incompatible.\u001b[0m\n",
      "Successfully installed bayesian-optimization-1.2.0 cycler-0.12.1 future-1.0.0 h2o-3.36.0.3 joblib-1.4.0 kiwisolver-1.4.5 matplotlib-3.4.0 numpy-1.21.0 pandas-2.0.3 pillow-10.3.0 scikit-learn-0.24.2 scipy-1.7.0 seaborn-0.11.1 tabulate-0.9.0 threadpoolctl-3.4.0\n"
     ]
    }
   ],
   "source": [
    "!pip install -r requirements.txt"
   ]
  },
  {
   "cell_type": "code",
   "execution_count": 3,
   "metadata": {},
   "outputs": [
    {
     "name": "stderr",
     "output_type": "stream",
     "text": [
      "/home/cmoragoncorella/.local/lib/python3.9/site-packages/scipy/__init__.py:146: UserWarning: A NumPy version >=1.16.5 and <1.23.0 is required for this version of SciPy (detected version 1.26.4\n",
      "  warnings.warn(f\"A NumPy version >={np_minversion} and <{np_maxversion}\"\n"
     ]
    }
   ],
   "source": [
    "import pandas as pd\n",
    "\n",
    "#import from pandas import read_csv\n",
    "#from pandas.plotting import scatter_matrix\n",
    "from matplotlib import pyplot as plt\n",
    "import seaborn as sns\n",
    "import sklearn\n",
    "import numpy as np\n",
    "import scipy \n",
    "from scipy.stats import skew, boxcox_normmax, norm\n",
    "\n",
    "from sklearn.model_selection import train_test_split\n",
    "from sklearn.preprocessing import MinMaxScaler\n",
    "import bayes_opt\n",
    "from bayes_opt import BayesianOptimization\n",
    "\n",
    "\n",
    "import h2o"
   ]
  },
  {
   "cell_type": "code",
   "execution_count": 4,
   "metadata": {},
   "outputs": [
    {
     "name": "stdout",
     "output_type": "stream",
     "text": [
      "Versiones de las principales librerías utilizadas en este Notebook\n",
      "Versión de pandas: 2.2.1\n",
      "Versión de H20: 3.36.0.3\n",
      "Versión de sklearn: 0.24.2\n",
      "Versión de numpy: 1.26.4\n",
      "Versión de scipy: 1.7.0\n"
     ]
    }
   ],
   "source": [
    "print ('Versiones de las principales librerías utilizadas en este Notebook')\n",
    "print ('Versión de pandas: {}'.format(pd.__version__))\n",
    "print ('Versión de H20: {}'.format(h2o.__version__))\n",
    "print ('Versión de sklearn: {}'.format(sklearn.__version__))\n",
    "print ('Versión de numpy: {}'.format(np.__version__))\n",
    "print ('Versión de scipy: {}'.format(scipy.__version__))\n"
   ]
  },
  {
   "cell_type": "code",
   "execution_count": null,
   "metadata": {},
   "outputs": [],
   "source": []
  },
  {
   "cell_type": "markdown",
   "metadata": {},
   "source": [
    "# 1.- Análisis y preprocesamiento del dataset Iris"
   ]
  },
  {
   "cell_type": "markdown",
   "metadata": {},
   "source": [
    "## 1.1 Carga del dataset\n",
    "\n",
    "Cargamos el dataset de sklearn, lo transformamos a `pd.DataFrame` y renombramos las columnas"
   ]
  },
  {
   "cell_type": "code",
   "execution_count": 5,
   "metadata": {},
   "outputs": [],
   "source": [
    "from sklearn import datasets\n",
    "iris  = datasets.load_iris()"
   ]
  },
  {
   "cell_type": "code",
   "execution_count": 6,
   "metadata": {},
   "outputs": [
    {
     "data": {
      "text/plain": [
       "sklearn.utils.Bunch"
      ]
     },
     "execution_count": 6,
     "metadata": {},
     "output_type": "execute_result"
    }
   ],
   "source": [
    "type(iris)"
   ]
  },
  {
   "cell_type": "code",
   "execution_count": 7,
   "metadata": {},
   "outputs": [],
   "source": [
    "iris_df = pd.DataFrame(data= np.c_[iris['data'], iris['target']],\n",
    "                     columns= iris['feature_names'] + ['target'])"
   ]
  },
  {
   "cell_type": "code",
   "execution_count": 8,
   "metadata": {},
   "outputs": [],
   "source": [
    "iris_df.columns = ['sepal_l','sepal_w','petal_l','petal_w','target']"
   ]
  },
  {
   "cell_type": "code",
   "execution_count": 9,
   "metadata": {},
   "outputs": [
    {
     "name": "stderr",
     "output_type": "stream",
     "text": [
      "/usr/local/lib/python3.9/dist-packages/IPython/core/formatters.py:344: FutureWarning: Index.format is deprecated and will be removed in a future version. Convert using index.astype(str) or index.map(formatter) instead.\n",
      "  return method()\n",
      "/usr/local/lib/python3.9/dist-packages/IPython/core/formatters.py:344: FutureWarning: RangeIndex.format is deprecated and will be removed in a future version. Convert using index.astype(str) or index.map(formatter) instead.\n",
      "  return method()\n"
     ]
    },
    {
     "data": {
      "text/html": [
       "<div>\n",
       "<style scoped>\n",
       "    .dataframe tbody tr th:only-of-type {\n",
       "        vertical-align: middle;\n",
       "    }\n",
       "\n",
       "    .dataframe tbody tr th {\n",
       "        vertical-align: top;\n",
       "    }\n",
       "\n",
       "    .dataframe thead th {\n",
       "        text-align: right;\n",
       "    }\n",
       "</style>\n",
       "<table border=\"1\" class=\"dataframe\">\n",
       "  <thead>\n",
       "    <tr style=\"text-align: right;\">\n",
       "      <th></th>\n",
       "      <th>sepal_l</th>\n",
       "      <th>sepal_w</th>\n",
       "      <th>petal_l</th>\n",
       "      <th>petal_w</th>\n",
       "      <th>target</th>\n",
       "    </tr>\n",
       "  </thead>\n",
       "  <tbody>\n",
       "    <tr>\n",
       "      <th>0</th>\n",
       "      <td>5.1</td>\n",
       "      <td>3.5</td>\n",
       "      <td>1.4</td>\n",
       "      <td>0.2</td>\n",
       "      <td>0.0</td>\n",
       "    </tr>\n",
       "    <tr>\n",
       "      <th>1</th>\n",
       "      <td>4.9</td>\n",
       "      <td>3.0</td>\n",
       "      <td>1.4</td>\n",
       "      <td>0.2</td>\n",
       "      <td>0.0</td>\n",
       "    </tr>\n",
       "    <tr>\n",
       "      <th>2</th>\n",
       "      <td>4.7</td>\n",
       "      <td>3.2</td>\n",
       "      <td>1.3</td>\n",
       "      <td>0.2</td>\n",
       "      <td>0.0</td>\n",
       "    </tr>\n",
       "    <tr>\n",
       "      <th>3</th>\n",
       "      <td>4.6</td>\n",
       "      <td>3.1</td>\n",
       "      <td>1.5</td>\n",
       "      <td>0.2</td>\n",
       "      <td>0.0</td>\n",
       "    </tr>\n",
       "    <tr>\n",
       "      <th>4</th>\n",
       "      <td>5.0</td>\n",
       "      <td>3.6</td>\n",
       "      <td>1.4</td>\n",
       "      <td>0.2</td>\n",
       "      <td>0.0</td>\n",
       "    </tr>\n",
       "  </tbody>\n",
       "</table>\n",
       "</div>"
      ],
      "text/plain": [
       "   sepal_l  sepal_w  petal_l  petal_w  target\n",
       "0      5.1      3.5      1.4      0.2     0.0\n",
       "1      4.9      3.0      1.4      0.2     0.0\n",
       "2      4.7      3.2      1.3      0.2     0.0\n",
       "3      4.6      3.1      1.5      0.2     0.0\n",
       "4      5.0      3.6      1.4      0.2     0.0"
      ]
     },
     "execution_count": 9,
     "metadata": {},
     "output_type": "execute_result"
    }
   ],
   "source": [
    "iris_df.head()"
   ]
  },
  {
   "cell_type": "markdown",
   "metadata": {},
   "source": [
    "## 1.2 Descriptivos sobre el dataset"
   ]
  },
  {
   "cell_type": "markdown",
   "metadata": {},
   "source": [
    "### 1.2.1 Tipos y métricas\n"
   ]
  },
  {
   "cell_type": "code",
   "execution_count": 10,
   "metadata": {},
   "outputs": [
    {
     "data": {
      "text/plain": [
       "(150, 5)"
      ]
     },
     "execution_count": 10,
     "metadata": {},
     "output_type": "execute_result"
    }
   ],
   "source": [
    "iris_df.shape"
   ]
  },
  {
   "cell_type": "code",
   "execution_count": 11,
   "metadata": {},
   "outputs": [
    {
     "name": "stderr",
     "output_type": "stream",
     "text": [
      "/usr/local/lib/python3.9/dist-packages/IPython/core/formatters.py:344: FutureWarning: Index.format is deprecated and will be removed in a future version. Convert using index.astype(str) or index.map(formatter) instead.\n",
      "  return method()\n"
     ]
    },
    {
     "data": {
      "text/html": [
       "<div>\n",
       "<style scoped>\n",
       "    .dataframe tbody tr th:only-of-type {\n",
       "        vertical-align: middle;\n",
       "    }\n",
       "\n",
       "    .dataframe tbody tr th {\n",
       "        vertical-align: top;\n",
       "    }\n",
       "\n",
       "    .dataframe thead th {\n",
       "        text-align: right;\n",
       "    }\n",
       "</style>\n",
       "<table border=\"1\" class=\"dataframe\">\n",
       "  <thead>\n",
       "    <tr style=\"text-align: right;\">\n",
       "      <th></th>\n",
       "      <th>sepal_l</th>\n",
       "      <th>sepal_w</th>\n",
       "      <th>petal_l</th>\n",
       "      <th>petal_w</th>\n",
       "      <th>target</th>\n",
       "    </tr>\n",
       "  </thead>\n",
       "  <tbody>\n",
       "    <tr>\n",
       "      <th>count</th>\n",
       "      <td>150.000000</td>\n",
       "      <td>150.000000</td>\n",
       "      <td>150.000000</td>\n",
       "      <td>150.000000</td>\n",
       "      <td>150.000000</td>\n",
       "    </tr>\n",
       "    <tr>\n",
       "      <th>mean</th>\n",
       "      <td>5.843333</td>\n",
       "      <td>3.057333</td>\n",
       "      <td>3.758000</td>\n",
       "      <td>1.199333</td>\n",
       "      <td>1.000000</td>\n",
       "    </tr>\n",
       "    <tr>\n",
       "      <th>std</th>\n",
       "      <td>0.828066</td>\n",
       "      <td>0.435866</td>\n",
       "      <td>1.765298</td>\n",
       "      <td>0.762238</td>\n",
       "      <td>0.819232</td>\n",
       "    </tr>\n",
       "    <tr>\n",
       "      <th>min</th>\n",
       "      <td>4.300000</td>\n",
       "      <td>2.000000</td>\n",
       "      <td>1.000000</td>\n",
       "      <td>0.100000</td>\n",
       "      <td>0.000000</td>\n",
       "    </tr>\n",
       "    <tr>\n",
       "      <th>25%</th>\n",
       "      <td>5.100000</td>\n",
       "      <td>2.800000</td>\n",
       "      <td>1.600000</td>\n",
       "      <td>0.300000</td>\n",
       "      <td>0.000000</td>\n",
       "    </tr>\n",
       "    <tr>\n",
       "      <th>50%</th>\n",
       "      <td>5.800000</td>\n",
       "      <td>3.000000</td>\n",
       "      <td>4.350000</td>\n",
       "      <td>1.300000</td>\n",
       "      <td>1.000000</td>\n",
       "    </tr>\n",
       "    <tr>\n",
       "      <th>75%</th>\n",
       "      <td>6.400000</td>\n",
       "      <td>3.300000</td>\n",
       "      <td>5.100000</td>\n",
       "      <td>1.800000</td>\n",
       "      <td>2.000000</td>\n",
       "    </tr>\n",
       "    <tr>\n",
       "      <th>max</th>\n",
       "      <td>7.900000</td>\n",
       "      <td>4.400000</td>\n",
       "      <td>6.900000</td>\n",
       "      <td>2.500000</td>\n",
       "      <td>2.000000</td>\n",
       "    </tr>\n",
       "  </tbody>\n",
       "</table>\n",
       "</div>"
      ],
      "text/plain": [
       "          sepal_l     sepal_w     petal_l     petal_w      target\n",
       "count  150.000000  150.000000  150.000000  150.000000  150.000000\n",
       "mean     5.843333    3.057333    3.758000    1.199333    1.000000\n",
       "std      0.828066    0.435866    1.765298    0.762238    0.819232\n",
       "min      4.300000    2.000000    1.000000    0.100000    0.000000\n",
       "25%      5.100000    2.800000    1.600000    0.300000    0.000000\n",
       "50%      5.800000    3.000000    4.350000    1.300000    1.000000\n",
       "75%      6.400000    3.300000    5.100000    1.800000    2.000000\n",
       "max      7.900000    4.400000    6.900000    2.500000    2.000000"
      ]
     },
     "execution_count": 11,
     "metadata": {},
     "output_type": "execute_result"
    }
   ],
   "source": [
    "iris_df.describe()"
   ]
  },
  {
   "cell_type": "markdown",
   "metadata": {},
   "source": [
    "Se puede observar que la distribución de las variables en términos de centralidad (media / mediana) y dispersión no es igual en todas las variables.  Confirmaremos este extremo analizando el sesgo en la distribución y cuando mostremos los diagramas de las variables. Seguidamente, necesitamos más información sobre la tipología de las variables (a priori parecen todas numéricas, número de valores nulos y distintos, etc)\n",
    "\n",
    "### Análisis del sesgo\n",
    "\n",
    "Confirmamos que no parece existir un sesgo demasiado alto, por lo que no será necesario tratarlo a la hora de trabajar sobre los datos (todos los valores son menores a `abs(0.5)`"
   ]
  },
  {
   "cell_type": "code",
   "execution_count": 12,
   "metadata": {},
   "outputs": [],
   "source": [
    "feature_skew = iris_df.apply(\n",
    "            lambda x: skew(x)).sort_values(ascending=False)"
   ]
  },
  {
   "cell_type": "code",
   "execution_count": 13,
   "metadata": {},
   "outputs": [
    {
     "data": {
      "text/plain": [
       "sepal_w    0.315767\n",
       "sepal_l    0.311753\n",
       "target     0.000000\n",
       "petal_w   -0.101934\n",
       "petal_l   -0.272128\n",
       "dtype: float64"
      ]
     },
     "execution_count": 13,
     "metadata": {},
     "output_type": "execute_result"
    }
   ],
   "source": [
    "feature_skew"
   ]
  },
  {
   "cell_type": "markdown",
   "metadata": {},
   "source": [
    "###  Confirmamos los tipos y los NA's\n",
    "\n",
    "Son todos de tipo float y no presentan NA's"
   ]
  },
  {
   "cell_type": "code",
   "execution_count": 14,
   "metadata": {},
   "outputs": [
    {
     "data": {
      "text/plain": [
       "sepal_l    float64\n",
       "sepal_w    float64\n",
       "petal_l    float64\n",
       "petal_w    float64\n",
       "target     float64\n",
       "dtype: object"
      ]
     },
     "execution_count": 14,
     "metadata": {},
     "output_type": "execute_result"
    }
   ],
   "source": [
    "iris_df.dtypes"
   ]
  },
  {
   "cell_type": "code",
   "execution_count": 15,
   "metadata": {},
   "outputs": [
    {
     "name": "stderr",
     "output_type": "stream",
     "text": [
      "/usr/local/lib/python3.9/dist-packages/IPython/core/formatters.py:344: FutureWarning: Index.format is deprecated and will be removed in a future version. Convert using index.astype(str) or index.map(formatter) instead.\n",
      "  return method()\n"
     ]
    },
    {
     "data": {
      "text/html": [
       "<div>\n",
       "<style scoped>\n",
       "    .dataframe tbody tr th:only-of-type {\n",
       "        vertical-align: middle;\n",
       "    }\n",
       "\n",
       "    .dataframe tbody tr th {\n",
       "        vertical-align: top;\n",
       "    }\n",
       "\n",
       "    .dataframe thead th {\n",
       "        text-align: right;\n",
       "    }\n",
       "</style>\n",
       "<table border=\"1\" class=\"dataframe\">\n",
       "  <thead>\n",
       "    <tr style=\"text-align: right;\">\n",
       "      <th></th>\n",
       "      <th>dtype</th>\n",
       "      <th>NAs</th>\n",
       "    </tr>\n",
       "  </thead>\n",
       "  <tbody>\n",
       "    <tr>\n",
       "      <th>sepal_l</th>\n",
       "      <td>float64</td>\n",
       "      <td>0</td>\n",
       "    </tr>\n",
       "    <tr>\n",
       "      <th>sepal_w</th>\n",
       "      <td>float64</td>\n",
       "      <td>0</td>\n",
       "    </tr>\n",
       "    <tr>\n",
       "      <th>petal_l</th>\n",
       "      <td>float64</td>\n",
       "      <td>0</td>\n",
       "    </tr>\n",
       "    <tr>\n",
       "      <th>petal_w</th>\n",
       "      <td>float64</td>\n",
       "      <td>0</td>\n",
       "    </tr>\n",
       "    <tr>\n",
       "      <th>target</th>\n",
       "      <td>float64</td>\n",
       "      <td>0</td>\n",
       "    </tr>\n",
       "  </tbody>\n",
       "</table>\n",
       "</div>"
      ],
      "text/plain": [
       "           dtype  NAs\n",
       "sepal_l  float64    0\n",
       "sepal_w  float64    0\n",
       "petal_l  float64    0\n",
       "petal_w  float64    0\n",
       "target   float64    0"
      ]
     },
     "execution_count": 15,
     "metadata": {},
     "output_type": "execute_result"
    }
   ],
   "source": [
    "meta = dict()\n",
    "\n",
    "descr_tipos = pd.DataFrame({'dtype': iris_df.dtypes,\n",
    "                      'NAs': iris_df.isna().sum()})\n",
    "descr_tipos.head()"
   ]
  },
  {
   "cell_type": "markdown",
   "metadata": {},
   "source": [
    "### Número de registros únicos\n",
    "\n",
    "Parece que hay un duplicado en el dataset"
   ]
  },
  {
   "cell_type": "code",
   "execution_count": 16,
   "metadata": {},
   "outputs": [
    {
     "name": "stderr",
     "output_type": "stream",
     "text": [
      "/usr/local/lib/python3.9/dist-packages/IPython/core/formatters.py:344: FutureWarning: Index.format is deprecated and will be removed in a future version. Convert using index.astype(str) or index.map(formatter) instead.\n",
      "  return method()\n"
     ]
    },
    {
     "data": {
      "text/html": [
       "<div>\n",
       "<style scoped>\n",
       "    .dataframe tbody tr th:only-of-type {\n",
       "        vertical-align: middle;\n",
       "    }\n",
       "\n",
       "    .dataframe tbody tr th {\n",
       "        vertical-align: top;\n",
       "    }\n",
       "\n",
       "    .dataframe thead th {\n",
       "        text-align: right;\n",
       "    }\n",
       "</style>\n",
       "<table border=\"1\" class=\"dataframe\">\n",
       "  <thead>\n",
       "    <tr style=\"text-align: right;\">\n",
       "      <th></th>\n",
       "      <th>regs</th>\n",
       "      <th>regs_unicos</th>\n",
       "    </tr>\n",
       "  </thead>\n",
       "  <tbody>\n",
       "    <tr>\n",
       "      <th>sepal_l</th>\n",
       "      <td>150</td>\n",
       "      <td>149</td>\n",
       "    </tr>\n",
       "    <tr>\n",
       "      <th>sepal_w</th>\n",
       "      <td>150</td>\n",
       "      <td>149</td>\n",
       "    </tr>\n",
       "    <tr>\n",
       "      <th>petal_l</th>\n",
       "      <td>150</td>\n",
       "      <td>149</td>\n",
       "    </tr>\n",
       "    <tr>\n",
       "      <th>petal_w</th>\n",
       "      <td>150</td>\n",
       "      <td>149</td>\n",
       "    </tr>\n",
       "    <tr>\n",
       "      <th>target</th>\n",
       "      <td>150</td>\n",
       "      <td>149</td>\n",
       "    </tr>\n",
       "  </tbody>\n",
       "</table>\n",
       "</div>"
      ],
      "text/plain": [
       "         regs  regs_unicos\n",
       "sepal_l   150          149\n",
       "sepal_w   150          149\n",
       "petal_l   150          149\n",
       "petal_w   150          149\n",
       "target    150          149"
      ]
     },
     "execution_count": 16,
     "metadata": {},
     "output_type": "execute_result"
    }
   ],
   "source": [
    "conteos = pd.DataFrame({'regs': iris_df.shape[0],\n",
    "                      'regs_unicos': iris_df.drop_duplicates().count()})\n",
    "\n",
    "conteos"
   ]
  },
  {
   "cell_type": "code",
   "execution_count": 17,
   "metadata": {},
   "outputs": [
    {
     "name": "stderr",
     "output_type": "stream",
     "text": [
      "/usr/local/lib/python3.9/dist-packages/IPython/core/formatters.py:344: FutureWarning: Index.format is deprecated and will be removed in a future version. Convert using index.astype(str) or index.map(formatter) instead.\n",
      "  return method()\n"
     ]
    },
    {
     "data": {
      "text/html": [
       "<div>\n",
       "<style scoped>\n",
       "    .dataframe tbody tr th:only-of-type {\n",
       "        vertical-align: middle;\n",
       "    }\n",
       "\n",
       "    .dataframe tbody tr th {\n",
       "        vertical-align: top;\n",
       "    }\n",
       "\n",
       "    .dataframe thead th {\n",
       "        text-align: right;\n",
       "    }\n",
       "</style>\n",
       "<table border=\"1\" class=\"dataframe\">\n",
       "  <thead>\n",
       "    <tr style=\"text-align: right;\">\n",
       "      <th></th>\n",
       "      <th>sepal_l</th>\n",
       "      <th>sepal_w</th>\n",
       "      <th>petal_l</th>\n",
       "      <th>petal_w</th>\n",
       "      <th>target</th>\n",
       "    </tr>\n",
       "  </thead>\n",
       "  <tbody>\n",
       "    <tr>\n",
       "      <th>142</th>\n",
       "      <td>5.8</td>\n",
       "      <td>2.7</td>\n",
       "      <td>5.1</td>\n",
       "      <td>1.9</td>\n",
       "      <td>2.0</td>\n",
       "    </tr>\n",
       "  </tbody>\n",
       "</table>\n",
       "</div>"
      ],
      "text/plain": [
       "     sepal_l  sepal_w  petal_l  petal_w  target\n",
       "142      5.8      2.7      5.1      1.9     2.0"
      ]
     },
     "execution_count": 17,
     "metadata": {},
     "output_type": "execute_result"
    }
   ],
   "source": [
    "iris_df[iris_df.duplicated()]"
   ]
  },
  {
   "cell_type": "markdown",
   "metadata": {},
   "source": [
    "### Análisis de presencia de outliers\n",
    "\n",
    "Aunque podríamos utilizar métodos más avanzados como `IsolationForest` o `LocalOutliersFactor`, como estamos trabajando con un dataset sencillo, simplemente me basaré en la distancia interquantil `IQR`"
   ]
  },
  {
   "cell_type": "code",
   "execution_count": 18,
   "metadata": {},
   "outputs": [
    {
     "data": {
      "text/plain": [
       "sepal_l    5.1\n",
       "sepal_w    2.8\n",
       "petal_l    1.6\n",
       "petal_w    0.3\n",
       "target     0.0\n",
       "Name: 0.25, dtype: float64"
      ]
     },
     "execution_count": 18,
     "metadata": {},
     "output_type": "execute_result"
    }
   ],
   "source": [
    "q1 = iris_df.quantile(0.25)\n",
    "q3 = iris_df.quantile(0.75)\n",
    "iqr = q3 - q1\n",
    "q1"
   ]
  },
  {
   "cell_type": "code",
   "execution_count": null,
   "metadata": {},
   "outputs": [],
   "source": []
  },
  {
   "cell_type": "markdown",
   "metadata": {},
   "source": [
    " ---------------------------------------------------------------------------------------\n",
    " Como la distribución no está demasiado sesgada, pondré 3 como factor para determinar si es outlier o no\n",
    " \n",
    " ---------------------------------------------------------------------------------------\n"
   ]
  },
  {
   "cell_type": "code",
   "execution_count": 19,
   "metadata": {},
   "outputs": [
    {
     "data": {
      "text/plain": [
       "sepal_l    0\n",
       "sepal_w    0\n",
       "petal_l    0\n",
       "petal_w    0\n",
       "target     0\n",
       "dtype: int64"
      ]
     },
     "execution_count": 19,
     "metadata": {},
     "output_type": "execute_result"
    }
   ],
   "source": [
    "(((iris_df < (q1 - 3 * iqr))) |((iris_df > (q3 + 3 * iqr)))).sum()"
   ]
  },
  {
   "cell_type": "markdown",
   "metadata": {},
   "source": [
    "### Número de registros por target\n",
    "\n",
    "No existe desbalanceo en la target"
   ]
  },
  {
   "cell_type": "code",
   "execution_count": 20,
   "metadata": {},
   "outputs": [
    {
     "name": "stderr",
     "output_type": "stream",
     "text": [
      "/usr/local/lib/python3.9/dist-packages/IPython/core/formatters.py:344: FutureWarning: Index.format is deprecated and will be removed in a future version. Convert using index.astype(str) or index.map(formatter) instead.\n",
      "  return method()\n",
      "/usr/local/lib/python3.9/dist-packages/IPython/core/formatters.py:344: FutureWarning: RangeIndex.format is deprecated and will be removed in a future version. Convert using index.astype(str) or index.map(formatter) instead.\n",
      "  return method()\n"
     ]
    },
    {
     "data": {
      "text/html": [
       "<div>\n",
       "<style scoped>\n",
       "    .dataframe tbody tr th:only-of-type {\n",
       "        vertical-align: middle;\n",
       "    }\n",
       "\n",
       "    .dataframe tbody tr th {\n",
       "        vertical-align: top;\n",
       "    }\n",
       "\n",
       "    .dataframe thead th {\n",
       "        text-align: right;\n",
       "    }\n",
       "</style>\n",
       "<table border=\"1\" class=\"dataframe\">\n",
       "  <thead>\n",
       "    <tr style=\"text-align: right;\">\n",
       "      <th></th>\n",
       "      <th>target</th>\n",
       "      <th>conteos</th>\n",
       "    </tr>\n",
       "  </thead>\n",
       "  <tbody>\n",
       "    <tr>\n",
       "      <th>0</th>\n",
       "      <td>0.0</td>\n",
       "      <td>50</td>\n",
       "    </tr>\n",
       "    <tr>\n",
       "      <th>1</th>\n",
       "      <td>1.0</td>\n",
       "      <td>50</td>\n",
       "    </tr>\n",
       "    <tr>\n",
       "      <th>2</th>\n",
       "      <td>2.0</td>\n",
       "      <td>50</td>\n",
       "    </tr>\n",
       "  </tbody>\n",
       "</table>\n",
       "</div>"
      ],
      "text/plain": [
       "   target  conteos\n",
       "0     0.0       50\n",
       "1     1.0       50\n",
       "2     2.0       50"
      ]
     },
     "execution_count": 20,
     "metadata": {},
     "output_type": "execute_result"
    }
   ],
   "source": [
    "iris_df.groupby('target').size().reset_index(name='conteos')"
   ]
  },
  {
   "cell_type": "markdown",
   "metadata": {},
   "source": [
    "### 1.2.2 Diagramas Univariantes\n",
    "\n",
    "Como se puede ver en los diagramas, tal y como hemos visto no existe demasiado sesgo en la distribución. \n",
    "\n",
    "Aunque parece que en `sepal_w` aparecen datos extremos, como no hemos identificado outliers no los trataremos.\n"
   ]
  },
  {
   "cell_type": "code",
   "execution_count": 21,
   "metadata": {},
   "outputs": [
    {
     "name": "stdout",
     "output_type": "stream",
     "text": [
      "Unexpected exception formatting exception. Falling back to standard exception\n"
     ]
    },
    {
     "name": "stderr",
     "output_type": "stream",
     "text": [
      "Traceback (most recent call last):\n",
      "  File \"/usr/local/lib/python3.9/dist-packages/IPython/core/interactiveshell.py\", line 3550, in run_code\n",
      "    exec(code_obj, self.user_global_ns, self.user_ns)\n",
      "  File \"/tmp/ipykernel_1364/3878141633.py\", line 1, in <module>\n",
      "    iris_df.iloc[:,:-1].hist(grid=False,\n",
      "  File \"/home/cmoragoncorella/.local/lib/python3.9/site-packages/pandas/plotting/_core.py\", line 250, in hist_frame\n",
      "    with a line at the median (Q2). The whiskers extend from the edges\n",
      "  File \"/home/cmoragoncorella/.local/lib/python3.9/site-packages/pandas/plotting/_core.py\", line 1944, in _get_plot_backend\n",
      "  File \"/home/cmoragoncorella/.local/lib/python3.9/site-packages/pandas/plotting/_core.py\", line 1874, in _load_backend\n",
      "ImportError: matplotlib is required for plotting when the default backend \"matplotlib\" is selected.\n",
      "\n",
      "During handling of the above exception, another exception occurred:\n",
      "\n",
      "Traceback (most recent call last):\n",
      "  File \"/usr/local/lib/python3.9/dist-packages/IPython/core/interactiveshell.py\", line 2144, in showtraceback\n",
      "    stb = self.InteractiveTB.structured_traceback(\n",
      "  File \"/usr/local/lib/python3.9/dist-packages/IPython/core/ultratb.py\", line 1435, in structured_traceback\n",
      "    return FormattedTB.structured_traceback(\n",
      "  File \"/usr/local/lib/python3.9/dist-packages/IPython/core/ultratb.py\", line 1326, in structured_traceback\n",
      "    return VerboseTB.structured_traceback(\n",
      "  File \"/usr/local/lib/python3.9/dist-packages/IPython/core/ultratb.py\", line 1173, in structured_traceback\n",
      "    formatted_exception = self.format_exception_as_a_whole(etype, evalue, etb, number_of_lines_of_context,\n",
      "  File \"/usr/local/lib/python3.9/dist-packages/IPython/core/ultratb.py\", line 1088, in format_exception_as_a_whole\n",
      "    frames.append(self.format_record(record))\n",
      "  File \"/usr/local/lib/python3.9/dist-packages/IPython/core/ultratb.py\", line 970, in format_record\n",
      "    frame_info.lines, Colors, self.has_colors, lvals\n",
      "  File \"/usr/local/lib/python3.9/dist-packages/IPython/core/ultratb.py\", line 792, in lines\n",
      "    return self._sd.lines\n",
      "  File \"/usr/local/lib/python3.9/dist-packages/stack_data/utils.py\", line 145, in cached_property_wrapper\n",
      "    value = obj.__dict__[self.func.__name__] = self.func(obj)\n",
      "  File \"/usr/local/lib/python3.9/dist-packages/stack_data/core.py\", line 734, in lines\n",
      "    pieces = self.included_pieces\n",
      "  File \"/usr/local/lib/python3.9/dist-packages/stack_data/utils.py\", line 145, in cached_property_wrapper\n",
      "    value = obj.__dict__[self.func.__name__] = self.func(obj)\n",
      "  File \"/usr/local/lib/python3.9/dist-packages/stack_data/core.py\", line 681, in included_pieces\n",
      "    pos = scope_pieces.index(self.executing_piece)\n",
      "  File \"/usr/local/lib/python3.9/dist-packages/stack_data/utils.py\", line 145, in cached_property_wrapper\n",
      "    value = obj.__dict__[self.func.__name__] = self.func(obj)\n",
      "  File \"/usr/local/lib/python3.9/dist-packages/stack_data/core.py\", line 660, in executing_piece\n",
      "    return only(\n",
      "  File \"/usr/local/lib/python3.9/dist-packages/executing/executing.py\", line 116, in only\n",
      "    raise NotOneValueFound('Expected one value, found 0')\n",
      "executing.executing.NotOneValueFound: Expected one value, found 0\n"
     ]
    }
   ],
   "source": [
    "iris_df.iloc[:,:-1].hist(grid=False,\n",
    "       figsize=(10, 6),\n",
    "       bins=30)"
   ]
  },
  {
   "cell_type": "code",
   "execution_count": 23,
   "metadata": {},
   "outputs": [
    {
     "name": "stdout",
     "output_type": "stream",
     "text": [
      "\n",
      "\n",
      "***************************************************sepal_l***************************************************\n",
      "\n",
      "\n"
     ]
    },
    {
     "ename": "NameError",
     "evalue": "name 'pyplot' is not defined",
     "output_type": "error",
     "traceback": [
      "\u001b[0;31m---------------------------------------------------------------------------\u001b[0m",
      "\u001b[0;31mNameError\u001b[0m                                 Traceback (most recent call last)",
      "\u001b[1;32m/home/cmoragoncorella/practica_composer/ejemplo_basico_clasificacion_h2o (1).ipynb Cell 35\u001b[0m line \u001b[0;36m5\n\u001b[1;32m      <a href='vscode-notebook-cell://970-cs-858896235464-default.cs-europe-west1-iuzs.cloudshell.dev/home/cmoragoncorella/practica_composer/ejemplo_basico_clasificacion_h2o%20%281%29.ipynb#X45sdnNjb2RlLXJlbW90ZQ%3D%3D?line=2'>3</a>\u001b[0m \u001b[39mfor\u001b[39;00m col \u001b[39min\u001b[39;00m iris_df\u001b[39m.\u001b[39miloc[:,:\u001b[39m-\u001b[39m\u001b[39m1\u001b[39m]\u001b[39m.\u001b[39mcolumns:\n\u001b[1;32m      <a href='vscode-notebook-cell://970-cs-858896235464-default.cs-europe-west1-iuzs.cloudshell.dev/home/cmoragoncorella/practica_composer/ejemplo_basico_clasificacion_h2o%20%281%29.ipynb#X45sdnNjb2RlLXJlbW90ZQ%3D%3D?line=3'>4</a>\u001b[0m     \u001b[39mprint\u001b[39m (\u001b[39m'\u001b[39m\u001b[39m\\n\u001b[39;00m\u001b[39m\\n\u001b[39;00m\u001b[39m***************************************************\u001b[39m\u001b[39m'\u001b[39m\u001b[39m+\u001b[39mcol\u001b[39m+\u001b[39m\u001b[39m'\u001b[39m\u001b[39m***************************************************\u001b[39m\u001b[39m\\n\u001b[39;00m\u001b[39m\\n\u001b[39;00m\u001b[39m'\u001b[39m)\n\u001b[0;32m----> <a href='vscode-notebook-cell://970-cs-858896235464-default.cs-europe-west1-iuzs.cloudshell.dev/home/cmoragoncorella/practica_composer/ejemplo_basico_clasificacion_h2o%20%281%29.ipynb#X45sdnNjb2RlLXJlbW90ZQ%3D%3D?line=4'>5</a>\u001b[0m     pyplot\u001b[39m.\u001b[39mfigure(figsize\u001b[39m=\u001b[39m(\u001b[39m16\u001b[39m,\u001b[39m8\u001b[39m))\n\u001b[1;32m      <a href='vscode-notebook-cell://970-cs-858896235464-default.cs-europe-west1-iuzs.cloudshell.dev/home/cmoragoncorella/practica_composer/ejemplo_basico_clasificacion_h2o%20%281%29.ipynb#X45sdnNjb2RlLXJlbW90ZQ%3D%3D?line=5'>6</a>\u001b[0m     pyplot\u001b[39m.\u001b[39msubplot(\u001b[39m2\u001b[39m,\u001b[39m2\u001b[39m,\u001b[39m1\u001b[39m)\n\u001b[1;32m      <a href='vscode-notebook-cell://970-cs-858896235464-default.cs-europe-west1-iuzs.cloudshell.dev/home/cmoragoncorella/practica_composer/ejemplo_basico_clasificacion_h2o%20%281%29.ipynb#X45sdnNjb2RlLXJlbW90ZQ%3D%3D?line=6'>7</a>\u001b[0m     sns\u001b[39m.\u001b[39mdistplot(iris_df\u001b[39m.\u001b[39mloc[:,col])\n",
      "\u001b[0;31mNameError\u001b[0m: name 'pyplot' is not defined"
     ]
    }
   ],
   "source": [
    "import warnings\n",
    "warnings.filterwarnings(\"ignore\")\n",
    "for col in iris_df.iloc[:,:-1].columns:\n",
    "    print ('\\n\\n***************************************************'+col+'***************************************************\\n\\n')\n",
    "    pyplot.figure(figsize=(16,8))\n",
    "    pyplot.subplot(2,2,1)\n",
    "    sns.distplot(iris_df.loc[:,col])\n",
    "    pyplot.subplot(2,2,2)\n",
    "    sns.boxplot(iris_df.loc[:,col])\n",
    "    pyplot.subplot(2,2,3)\n",
    "    sns.distplot(iris_df.loc[:,col])\n",
    "    pyplot.subplot(2,2,4)\n",
    "    sns.boxplot(iris_df.loc[:,col])\n",
    "    pyplot.show()"
   ]
  },
  {
   "cell_type": "markdown",
   "metadata": {},
   "source": []
  },
  {
   "cell_type": "markdown",
   "metadata": {},
   "source": [
    "### 1.2.3 Diagramas multivariantes"
   ]
  },
  {
   "cell_type": "markdown",
   "metadata": {},
   "source": [
    "#### Respecto a otras predictoras\n",
    "\n",
    "Más allá de la distribución de los datos respecto a la target (por ejemplo, los individuos pertenecientes a la clase 0 tienen valores de petalo pequeño pero el ancho de sépalo es alto), conviene pararse a analizar:\n",
    "\n",
    "1. Que los individuos de la target 0 pueden discriminarse más fácilmente que los individuso de la clase 1 y 2. \n",
    "2. Las variables petal length y width están altamente correladas\n"
   ]
  },
  {
   "cell_type": "code",
   "execution_count": null,
   "metadata": {},
   "outputs": [
    {
     "data": {
      "text/plain": [
       "<seaborn.axisgrid.PairGrid at 0x7f9e0e0dd350>"
      ]
     },
     "execution_count": 438,
     "metadata": {},
     "output_type": "execute_result"
    },
    {
     "data": {
      "image/png": "[encoded data removed]",
      "text/plain": [
       "<Figure size 771.875x720 with 20 Axes>"
      ]
     },
     "metadata": {
      "needs_background": "light"
     },
     "output_type": "display_data"
    }
   ],
   "source": [
    "\n",
    "sns.pairplot(iris_df, hue=\"target\", diag_kind=\"hist\", palette='pastel')"
   ]
  },
  {
   "cell_type": "markdown",
   "metadata": {},
   "source": [
    " ---------------------------------------------------------------------------------------\n",
    "\n",
    "Si se quisiese ahondar en el análisis de las los valores que toman cada una de variables predictoras respecto de la target, podríamos analizar lo siguiente"
   ]
  },
  {
   "cell_type": "code",
   "execution_count": null,
   "metadata": {},
   "outputs": [
    {
     "data": {
      "image/png": "[encoded data removed]",
      "text/plain": [
       "<Figure size 1152x648 with 4 Axes>"
      ]
     },
     "metadata": {
      "needs_background": "light"
     },
     "output_type": "display_data"
    }
   ],
   "source": [
    "fig, axes = plt.subplots(2, 2, figsize=(16,9))\n",
    "sns.boxplot(  y=\"petal_w\", x= \"target\", data=iris_df,  orient='v' , ax=axes[0, 0],palette='pastel')\n",
    "sns.boxplot(  y=\"petal_l\", x= \"target\", data=iris_df,  orient='v' , ax=axes[0, 1],palette='pastel')\n",
    "sns.boxplot(  y=\"sepal_l\", x= \"target\", data=iris_df,  orient='v' , ax=axes[1, 0],palette='pastel')\n",
    "sns.boxplot(  y=\"sepal_w\", x= \"target\", data=iris_df,  orient='v' , ax=axes[1, 1],palette='pastel')\n",
    "plt.show()"
   ]
  },
  {
   "cell_type": "markdown",
   "metadata": {},
   "source": [
    " ---------------------------------------------------------------------------------------\n",
    "\n",
    "#### Correlaciones\n",
    "Si bien este punto podría haberse hecho de forma numérica, al ser pocas variables, mostrar una matriz de correlación es una forma rápida de visualizar la existencia o no de este fenómeno en los datos. Podemos comprobar que los valores más altos de correlación los obtenemos con las variables `petal_w` y `petal_l`, como ya vimos.  `sepal_l` y `sepal_w` son las variables que menos correladas están. No obstante lo anterior, tendremos que tratar la correlación de variables de cara a realizar modelos como los basados en regresión."
   ]
  },
  {
   "cell_type": "code",
   "execution_count": 25,
   "metadata": {},
   "outputs": [],
   "source": [
    "corr = iris_df.iloc[:,:-1].corr()"
   ]
  },
  {
   "cell_type": "code",
   "execution_count": null,
   "metadata": {},
   "outputs": [
    {
     "data": {
      "text/html": [
       "<div>\n",
       "<style scoped>\n",
       "    .dataframe tbody tr th:only-of-type {\n",
       "        vertical-align: middle;\n",
       "    }\n",
       "\n",
       "    .dataframe tbody tr th {\n",
       "        vertical-align: top;\n",
       "    }\n",
       "\n",
       "    .dataframe thead th {\n",
       "        text-align: right;\n",
       "    }\n",
       "</style>\n",
       "<table border=\"1\" class=\"dataframe\">\n",
       "  <thead>\n",
       "    <tr style=\"text-align: right;\">\n",
       "      <th></th>\n",
       "      <th>sepal_l</th>\n",
       "      <th>sepal_w</th>\n",
       "      <th>petal_l</th>\n",
       "      <th>petal_w</th>\n",
       "    </tr>\n",
       "  </thead>\n",
       "  <tbody>\n",
       "    <tr>\n",
       "      <th>sepal_l</th>\n",
       "      <td>1.000000</td>\n",
       "      <td>-0.117570</td>\n",
       "      <td>0.871754</td>\n",
       "      <td>0.817941</td>\n",
       "    </tr>\n",
       "    <tr>\n",
       "      <th>sepal_w</th>\n",
       "      <td>-0.117570</td>\n",
       "      <td>1.000000</td>\n",
       "      <td>-0.428440</td>\n",
       "      <td>-0.366126</td>\n",
       "    </tr>\n",
       "    <tr>\n",
       "      <th>petal_l</th>\n",
       "      <td>0.871754</td>\n",
       "      <td>-0.428440</td>\n",
       "      <td>1.000000</td>\n",
       "      <td>0.962865</td>\n",
       "    </tr>\n",
       "    <tr>\n",
       "      <th>petal_w</th>\n",
       "      <td>0.817941</td>\n",
       "      <td>-0.366126</td>\n",
       "      <td>0.962865</td>\n",
       "      <td>1.000000</td>\n",
       "    </tr>\n",
       "  </tbody>\n",
       "</table>\n",
       "</div>"
      ],
      "text/plain": [
       "          sepal_l   sepal_w   petal_l   petal_w\n",
       "sepal_l  1.000000 -0.117570  0.871754  0.817941\n",
       "sepal_w -0.117570  1.000000 -0.428440 -0.366126\n",
       "petal_l  0.871754 -0.428440  1.000000  0.962865\n",
       "petal_w  0.817941 -0.366126  0.962865  1.000000"
      ]
     },
     "execution_count": 441,
     "metadata": {},
     "output_type": "execute_result"
    }
   ],
   "source": [
    "corr"
   ]
  },
  {
   "cell_type": "code",
   "execution_count": null,
   "metadata": {},
   "outputs": [
    {
     "data": {
      "text/plain": [
       "[Text(0.5, 0, 'sepal_l'),\n",
       " Text(1.5, 0, 'sepal_w'),\n",
       " Text(2.5, 0, 'petal_l'),\n",
       " Text(3.5, 0, 'petal_w')]"
      ]
     },
     "execution_count": 442,
     "metadata": {},
     "output_type": "execute_result"
    },
    {
     "data": {
      "image/png": "[encoded data removed]",
      "text/plain": [
       "<Figure size 432x288 with 2 Axes>"
      ]
     },
     "metadata": {
      "needs_background": "light"
     },
     "output_type": "display_data"
    }
   ],
   "source": [
    "ax = sns.heatmap(\n",
    "    corr, \n",
    "    vmin=-1, vmax=1, center=0,\n",
    "    cmap=sns.diverging_palette(20, 220, n=200),\n",
    "    square=True, annot = True\n",
    ")\n",
    "ax.set_xticklabels(\n",
    "    ax.get_xticklabels(),\n",
    "    rotation=45,\n",
    "    horizontalalignment='right')"
   ]
  },
  {
   "cell_type": "markdown",
   "metadata": {},
   "source": []
  },
  {
   "cell_type": "markdown",
   "metadata": {},
   "source": []
  },
  {
   "cell_type": "markdown",
   "metadata": {},
   "source": [
    "# 2. Entrenamiento"
   ]
  },
  {
   "cell_type": "markdown",
   "metadata": {},
   "source": [
    "## 2.1 Selección del modelo\n",
    "\n",
    "Al ser un dataset bastante simple, no voy a utilizar stacking, bagging (RandomForest ) o boosting (XGBoost), ni tampoco basados en redes de neuronas (como el perceptron multicapa, que en datasets pequeños no ofrece una mejora significativa). No existen modelos idóneos para cualquier dataset, por tanto, y aunque idealmente habría que probar varios, a modo de ejercicio probaré simplemente un modelo de regresión con distribución multinomial.\n",
    "\n",
    "## 2.2 Preprocesamiento\n",
    "\n"
   ]
  },
  {
   "cell_type": "markdown",
   "metadata": {},
   "source": [
    "### 2.2.1.- Eliminación de variables altamente correladas y eliminación de variables correladas: "
   ]
  },
  {
   "cell_type": "markdown",
   "metadata": {},
   "source": [
    "Como entre los modelos que voy a utilizar a utilizar una regresión logística de distribución multivariante, escalo los datos y elimino variables correladas para evitar inestabilidad y sesgos en el modelo.\n",
    "Esto no es estrictamente necesario si utilizase otros modelos, como Gradient Boosting o un Random Forest. No obstante, no es una mala práctica realizarlo.\n",
    "\n",
    "Como la distribución de las variables no sigue una normal aplicaré una normalización basada en máximo y mínimo\n",
    "\n"
   ]
  },
  {
   "cell_type": "code",
   "execution_count": 27,
   "metadata": {},
   "outputs": [],
   "source": [
    "# Poongo en valores absolutos los valores de correlación obtenidos con anterioridad\n",
    "corr_matrix = corr.abs()\n",
    "\n",
    "# Me quedo con los valores del triángulo superior de la matriz\n",
    "upper = corr_matrix.where(np.triu(np.ones(corr_matrix.shape), k=1).astype(bool))\n",
    "\n",
    "# Selecciono aquellas variables que tienen una correlación superior a 0.9 en términos absolutos\n",
    "to_drop = [column for column in upper.columns if any(upper[column] > 0.9)]\n"
   ]
  },
  {
   "cell_type": "code",
   "execution_count": 28,
   "metadata": {},
   "outputs": [
    {
     "data": {
      "text/plain": [
       "['petal_w']"
      ]
     },
     "execution_count": 28,
     "metadata": {},
     "output_type": "execute_result"
    }
   ],
   "source": [
    "to_drop"
   ]
  },
  {
   "cell_type": "code",
   "execution_count": 29,
   "metadata": {},
   "outputs": [],
   "source": [
    "df = iris_df.drop(to_drop,axis=1)\n",
    "del iris_df"
   ]
  },
  {
   "cell_type": "code",
   "execution_count": 30,
   "metadata": {},
   "outputs": [
    {
     "data": {
      "text/html": [
       "<div>\n",
       "<style scoped>\n",
       "    .dataframe tbody tr th:only-of-type {\n",
       "        vertical-align: middle;\n",
       "    }\n",
       "\n",
       "    .dataframe tbody tr th {\n",
       "        vertical-align: top;\n",
       "    }\n",
       "\n",
       "    .dataframe thead th {\n",
       "        text-align: right;\n",
       "    }\n",
       "</style>\n",
       "<table border=\"1\" class=\"dataframe\">\n",
       "  <thead>\n",
       "    <tr style=\"text-align: right;\">\n",
       "      <th></th>\n",
       "      <th>sepal_l</th>\n",
       "      <th>sepal_w</th>\n",
       "      <th>petal_l</th>\n",
       "      <th>target</th>\n",
       "    </tr>\n",
       "  </thead>\n",
       "  <tbody>\n",
       "    <tr>\n",
       "      <th>0</th>\n",
       "      <td>5.1</td>\n",
       "      <td>3.5</td>\n",
       "      <td>1.4</td>\n",
       "      <td>0.0</td>\n",
       "    </tr>\n",
       "    <tr>\n",
       "      <th>1</th>\n",
       "      <td>4.9</td>\n",
       "      <td>3.0</td>\n",
       "      <td>1.4</td>\n",
       "      <td>0.0</td>\n",
       "    </tr>\n",
       "    <tr>\n",
       "      <th>2</th>\n",
       "      <td>4.7</td>\n",
       "      <td>3.2</td>\n",
       "      <td>1.3</td>\n",
       "      <td>0.0</td>\n",
       "    </tr>\n",
       "    <tr>\n",
       "      <th>3</th>\n",
       "      <td>4.6</td>\n",
       "      <td>3.1</td>\n",
       "      <td>1.5</td>\n",
       "      <td>0.0</td>\n",
       "    </tr>\n",
       "    <tr>\n",
       "      <th>4</th>\n",
       "      <td>5.0</td>\n",
       "      <td>3.6</td>\n",
       "      <td>1.4</td>\n",
       "      <td>0.0</td>\n",
       "    </tr>\n",
       "  </tbody>\n",
       "</table>\n",
       "</div>"
      ],
      "text/plain": [
       "   sepal_l  sepal_w  petal_l  target\n",
       "0      5.1      3.5      1.4     0.0\n",
       "1      4.9      3.0      1.4     0.0\n",
       "2      4.7      3.2      1.3     0.0\n",
       "3      4.6      3.1      1.5     0.0\n",
       "4      5.0      3.6      1.4     0.0"
      ]
     },
     "execution_count": 30,
     "metadata": {},
     "output_type": "execute_result"
    }
   ],
   "source": [
    "df.head()"
   ]
  },
  {
   "cell_type": "markdown",
   "metadata": {},
   "source": [
    "### 2.2.2.- Eliminamos duplicados"
   ]
  },
  {
   "cell_type": "code",
   "execution_count": 31,
   "metadata": {},
   "outputs": [
    {
     "data": {
      "text/plain": [
       "(144, 4)"
      ]
     },
     "execution_count": 31,
     "metadata": {},
     "output_type": "execute_result"
    }
   ],
   "source": [
    "df = df.drop_duplicates()\n",
    "df.shape"
   ]
  },
  {
   "cell_type": "markdown",
   "metadata": {},
   "source": [
    "### 2.2.3.-  Escalado"
   ]
  },
  {
   "cell_type": "code",
   "execution_count": 32,
   "metadata": {},
   "outputs": [],
   "source": [
    "scaler = MinMaxScaler()"
   ]
  },
  {
   "cell_type": "code",
   "execution_count": 33,
   "metadata": {},
   "outputs": [],
   "source": [
    "X = df[['sepal_l','sepal_w','petal_l']]"
   ]
  },
  {
   "cell_type": "code",
   "execution_count": 34,
   "metadata": {},
   "outputs": [
    {
     "data": {
      "text/html": [
       "<div>\n",
       "<style scoped>\n",
       "    .dataframe tbody tr th:only-of-type {\n",
       "        vertical-align: middle;\n",
       "    }\n",
       "\n",
       "    .dataframe tbody tr th {\n",
       "        vertical-align: top;\n",
       "    }\n",
       "\n",
       "    .dataframe thead th {\n",
       "        text-align: right;\n",
       "    }\n",
       "</style>\n",
       "<table border=\"1\" class=\"dataframe\">\n",
       "  <thead>\n",
       "    <tr style=\"text-align: right;\">\n",
       "      <th></th>\n",
       "      <th>sepal_l</th>\n",
       "      <th>sepal_w</th>\n",
       "      <th>petal_l</th>\n",
       "    </tr>\n",
       "  </thead>\n",
       "  <tbody>\n",
       "    <tr>\n",
       "      <th>0</th>\n",
       "      <td>5.1</td>\n",
       "      <td>3.5</td>\n",
       "      <td>1.4</td>\n",
       "    </tr>\n",
       "    <tr>\n",
       "      <th>1</th>\n",
       "      <td>4.9</td>\n",
       "      <td>3.0</td>\n",
       "      <td>1.4</td>\n",
       "    </tr>\n",
       "    <tr>\n",
       "      <th>2</th>\n",
       "      <td>4.7</td>\n",
       "      <td>3.2</td>\n",
       "      <td>1.3</td>\n",
       "    </tr>\n",
       "    <tr>\n",
       "      <th>3</th>\n",
       "      <td>4.6</td>\n",
       "      <td>3.1</td>\n",
       "      <td>1.5</td>\n",
       "    </tr>\n",
       "    <tr>\n",
       "      <th>4</th>\n",
       "      <td>5.0</td>\n",
       "      <td>3.6</td>\n",
       "      <td>1.4</td>\n",
       "    </tr>\n",
       "  </tbody>\n",
       "</table>\n",
       "</div>"
      ],
      "text/plain": [
       "   sepal_l  sepal_w  petal_l\n",
       "0      5.1      3.5      1.4\n",
       "1      4.9      3.0      1.4\n",
       "2      4.7      3.2      1.3\n",
       "3      4.6      3.1      1.5\n",
       "4      5.0      3.6      1.4"
      ]
     },
     "execution_count": 34,
     "metadata": {},
     "output_type": "execute_result"
    }
   ],
   "source": [
    "X.head()"
   ]
  },
  {
   "cell_type": "code",
   "execution_count": 35,
   "metadata": {},
   "outputs": [
    {
     "data": {
      "text/html": [
       "<div>\n",
       "<style scoped>\n",
       "    .dataframe tbody tr th:only-of-type {\n",
       "        vertical-align: middle;\n",
       "    }\n",
       "\n",
       "    .dataframe tbody tr th {\n",
       "        vertical-align: top;\n",
       "    }\n",
       "\n",
       "    .dataframe thead th {\n",
       "        text-align: right;\n",
       "    }\n",
       "</style>\n",
       "<table border=\"1\" class=\"dataframe\">\n",
       "  <thead>\n",
       "    <tr style=\"text-align: right;\">\n",
       "      <th></th>\n",
       "      <th>target</th>\n",
       "    </tr>\n",
       "  </thead>\n",
       "  <tbody>\n",
       "    <tr>\n",
       "      <th>0</th>\n",
       "      <td>0</td>\n",
       "    </tr>\n",
       "    <tr>\n",
       "      <th>1</th>\n",
       "      <td>0</td>\n",
       "    </tr>\n",
       "    <tr>\n",
       "      <th>2</th>\n",
       "      <td>0</td>\n",
       "    </tr>\n",
       "    <tr>\n",
       "      <th>3</th>\n",
       "      <td>0</td>\n",
       "    </tr>\n",
       "    <tr>\n",
       "      <th>4</th>\n",
       "      <td>0</td>\n",
       "    </tr>\n",
       "    <tr>\n",
       "      <th>...</th>\n",
       "      <td>...</td>\n",
       "    </tr>\n",
       "    <tr>\n",
       "      <th>145</th>\n",
       "      <td>2</td>\n",
       "    </tr>\n",
       "    <tr>\n",
       "      <th>146</th>\n",
       "      <td>2</td>\n",
       "    </tr>\n",
       "    <tr>\n",
       "      <th>147</th>\n",
       "      <td>2</td>\n",
       "    </tr>\n",
       "    <tr>\n",
       "      <th>148</th>\n",
       "      <td>2</td>\n",
       "    </tr>\n",
       "    <tr>\n",
       "      <th>149</th>\n",
       "      <td>2</td>\n",
       "    </tr>\n",
       "  </tbody>\n",
       "</table>\n",
       "<p>144 rows × 1 columns</p>\n",
       "</div>"
      ],
      "text/plain": [
       "     target\n",
       "0         0\n",
       "1         0\n",
       "2         0\n",
       "3         0\n",
       "4         0\n",
       "..      ...\n",
       "145       2\n",
       "146       2\n",
       "147       2\n",
       "148       2\n",
       "149       2\n",
       "\n",
       "[144 rows x 1 columns]"
      ]
     },
     "execution_count": 35,
     "metadata": {},
     "output_type": "execute_result"
    }
   ],
   "source": [
    "y = df[['target']].astype(int)\n",
    "y"
   ]
  },
  {
   "cell_type": "code",
   "execution_count": 36,
   "metadata": {},
   "outputs": [],
   "source": [
    "X = scaler.fit_transform(X)\n",
    "X = pd.DataFrame(X, columns =['sepal_l','sepal_w','petal_l'] )"
   ]
  },
  {
   "cell_type": "code",
   "execution_count": 37,
   "metadata": {},
   "outputs": [
    {
     "data": {
      "text/html": [
       "<div>\n",
       "<style scoped>\n",
       "    .dataframe tbody tr th:only-of-type {\n",
       "        vertical-align: middle;\n",
       "    }\n",
       "\n",
       "    .dataframe tbody tr th {\n",
       "        vertical-align: top;\n",
       "    }\n",
       "\n",
       "    .dataframe thead th {\n",
       "        text-align: right;\n",
       "    }\n",
       "</style>\n",
       "<table border=\"1\" class=\"dataframe\">\n",
       "  <thead>\n",
       "    <tr style=\"text-align: right;\">\n",
       "      <th></th>\n",
       "      <th>sepal_l</th>\n",
       "      <th>sepal_w</th>\n",
       "      <th>petal_l</th>\n",
       "    </tr>\n",
       "  </thead>\n",
       "  <tbody>\n",
       "    <tr>\n",
       "      <th>0</th>\n",
       "      <td>0.222222</td>\n",
       "      <td>0.625000</td>\n",
       "      <td>0.067797</td>\n",
       "    </tr>\n",
       "    <tr>\n",
       "      <th>1</th>\n",
       "      <td>0.166667</td>\n",
       "      <td>0.416667</td>\n",
       "      <td>0.067797</td>\n",
       "    </tr>\n",
       "    <tr>\n",
       "      <th>2</th>\n",
       "      <td>0.111111</td>\n",
       "      <td>0.500000</td>\n",
       "      <td>0.050847</td>\n",
       "    </tr>\n",
       "    <tr>\n",
       "      <th>3</th>\n",
       "      <td>0.083333</td>\n",
       "      <td>0.458333</td>\n",
       "      <td>0.084746</td>\n",
       "    </tr>\n",
       "    <tr>\n",
       "      <th>4</th>\n",
       "      <td>0.194444</td>\n",
       "      <td>0.666667</td>\n",
       "      <td>0.067797</td>\n",
       "    </tr>\n",
       "  </tbody>\n",
       "</table>\n",
       "</div>"
      ],
      "text/plain": [
       "    sepal_l   sepal_w   petal_l\n",
       "0  0.222222  0.625000  0.067797\n",
       "1  0.166667  0.416667  0.067797\n",
       "2  0.111111  0.500000  0.050847\n",
       "3  0.083333  0.458333  0.084746\n",
       "4  0.194444  0.666667  0.067797"
      ]
     },
     "execution_count": 37,
     "metadata": {},
     "output_type": "execute_result"
    }
   ],
   "source": [
    "X.head()"
   ]
  },
  {
   "cell_type": "code",
   "execution_count": 38,
   "metadata": {},
   "outputs": [],
   "source": [
    "df_final = X\n",
    "df_final['target'] = y.iloc[:,0].values"
   ]
  },
  {
   "cell_type": "code",
   "execution_count": 39,
   "metadata": {},
   "outputs": [],
   "source": [
    "del df"
   ]
  },
  {
   "cell_type": "code",
   "execution_count": 7,
   "metadata": {},
   "outputs": [
    {
     "name": "stdout",
     "output_type": "stream",
     "text": [
      "Subconjunto de IRIS exportado a subconjunto_iris.csv\n"
     ]
    }
   ],
   "source": [
    "import pandas as pd\n",
    "import numpy as np\n",
    "from sklearn.datasets import load_iris\n",
    "\n",
    "# Cargamos los datos del conjunto de datos IRIS\n",
    "iris = load_iris()\n",
    "\n",
    "# Creamos un DataFrame a partir de los datos y las características\n",
    "iris_df = pd.DataFrame(data=np.c_[iris['data'], iris['target']],\n",
    "                       columns=iris['feature_names'] + ['target'])\n",
    "\n",
    "# Subconjunto de datos\n",
    "sub_iris_df = iris_df.sample(n=50, random_state=42)  # Por ejemplo, seleccionamos aleatoriamente 50 filas\n",
    "\n",
    "# Exportar el subconjunto a CSV\n",
    "sub_iris_df.to_csv('subconjunto_iris.csv', index=False)\n",
    "\n",
    "# Verificar que se ha exportado correctamente\n",
    "print(\"Subconjunto de IRIS exportado a subconjunto_iris.csv\")"
   ]
  },
  {
   "cell_type": "markdown",
   "metadata": {},
   "source": [
    "## 3. Modelado\n",
    "\n",
    "Aunque `sklearn` es un framework muy utilizado a la hora de realizar modelos de aprendizaje automático, voy a utilizar `h2o` para el modelado. `H2o` permite realizar los entrenamientos de forma muy rápida, abstrayéndonos de detalles en el preprocesado que facilitan el desarrollo rápido de modelos. Asimismo, permite almacenar los objetos en formato `mojo` de forma que pueden ser utilizados por el mismo framework en otro lenguaje (como 'R') sin necesidad de tener que reentrenar los modelos, o meter todas las variables de tu dataset sin necesidad de eliminarlas de forma que él se quede únicamente con las variables significativas del modelo"
   ]
  },
  {
   "cell_type": "code",
   "execution_count": 40,
   "metadata": {},
   "outputs": [
    {
     "name": "stdout",
     "output_type": "stream",
     "text": [
      "Checking whether there is an H2O instance running at http://localhost:54321 ..... not found.\n",
      "Attempting to start a local H2O server...\n",
      "  Java Version: openjdk version \"17.0.10\" 2024-01-16; OpenJDK Runtime Environment (build 17.0.10+7-Debian-1deb11u1); OpenJDK 64-Bit Server VM (build 17.0.10+7-Debian-1deb11u1, mixed mode, sharing)\n",
      "  Starting server from /home/cmoragoncorella/.local/lib/python3.9/site-packages/h2o/backend/bin/h2o.jar\n",
      "  Ice root: /tmp/tmpdra9njua\n",
      "  JVM stdout: /tmp/tmpdra9njua/h2o_cmoragoncorella_started_from_python.out\n",
      "  JVM stderr: /tmp/tmpdra9njua/h2o_cmoragoncorella_started_from_python.err\n",
      "  Server is running at http://127.0.0.1:54321\n",
      "Connecting to H2O server at http://127.0.0.1:54321 ... successful.\n",
      "Warning: Your H2O cluster version is too old (2 years, 1 month and 24 days)!Please download and install the latest version from http://h2o.ai/download/\n"
     ]
    },
    {
     "data": {
      "text/html": [
       "<div style=\"overflow:auto\"><table style=\"width:50%\"><tr><td>H2O_cluster_uptime:</td>\n",
       "<td>02 secs</td></tr>\n",
       "<tr><td>H2O_cluster_timezone:</td>\n",
       "<td>Etc/UTC</td></tr>\n",
       "<tr><td>H2O_data_parsing_timezone:</td>\n",
       "<td>UTC</td></tr>\n",
       "<tr><td>H2O_cluster_version:</td>\n",
       "<td>3.36.0.3</td></tr>\n",
       "<tr><td>H2O_cluster_version_age:</td>\n",
       "<td>2 years, 1 month and 24 days !!!</td></tr>\n",
       "<tr><td>H2O_cluster_name:</td>\n",
       "<td>H2O_from_python_cmoragoncorella_787c84</td></tr>\n",
       "<tr><td>H2O_cluster_total_nodes:</td>\n",
       "<td>1</td></tr>\n",
       "<tr><td>H2O_cluster_free_memory:</td>\n",
       "<td>3.908 Gb</td></tr>\n",
       "<tr><td>H2O_cluster_total_cores:</td>\n",
       "<td>4</td></tr>\n",
       "<tr><td>H2O_cluster_allowed_cores:</td>\n",
       "<td>4</td></tr>\n",
       "<tr><td>H2O_cluster_status:</td>\n",
       "<td>locked, healthy</td></tr>\n",
       "<tr><td>H2O_connection_url:</td>\n",
       "<td>http://127.0.0.1:54321</td></tr>\n",
       "<tr><td>H2O_connection_proxy:</td>\n",
       "<td>{\"http\": null, \"https\": null}</td></tr>\n",
       "<tr><td>H2O_internal_security:</td>\n",
       "<td>False</td></tr>\n",
       "<tr><td>Python_version:</td>\n",
       "<td>3.9.2 final</td></tr></table></div>"
      ],
      "text/plain": [
       "--------------------------  --------------------------------------\n",
       "H2O_cluster_uptime:         02 secs\n",
       "H2O_cluster_timezone:       Etc/UTC\n",
       "H2O_data_parsing_timezone:  UTC\n",
       "H2O_cluster_version:        3.36.0.3\n",
       "H2O_cluster_version_age:    2 years, 1 month and 24 days !!!\n",
       "H2O_cluster_name:           H2O_from_python_cmoragoncorella_787c84\n",
       "H2O_cluster_total_nodes:    1\n",
       "H2O_cluster_free_memory:    3.908 Gb\n",
       "H2O_cluster_total_cores:    4\n",
       "H2O_cluster_allowed_cores:  4\n",
       "H2O_cluster_status:         locked, healthy\n",
       "H2O_connection_url:         http://127.0.0.1:54321\n",
       "H2O_connection_proxy:       {\"http\": null, \"https\": null}\n",
       "H2O_internal_security:      False\n",
       "Python_version:             3.9.2 final\n",
       "--------------------------  --------------------------------------"
      ]
     },
     "metadata": {},
     "output_type": "display_data"
    }
   ],
   "source": [
    "\n",
    "h2o.init()\n"
   ]
  },
  {
   "cell_type": "code",
   "execution_count": 41,
   "metadata": {},
   "outputs": [
    {
     "name": "stdout",
     "output_type": "stream",
     "text": [
      "Parse progress: |████████████████████████████████████████████████████████████████| (done) 100%\n"
     ]
    }
   ],
   "source": [
    "h2oframe = h2o.H2OFrame(df_final)"
   ]
  },
  {
   "cell_type": "code",
   "execution_count": 42,
   "metadata": {},
   "outputs": [
    {
     "data": {
      "text/html": [
       "<table>\n",
       "<thead>\n",
       "<tr><th style=\"text-align: right;\">  sepal_l</th><th style=\"text-align: right;\">  sepal_w</th><th style=\"text-align: right;\">  petal_l</th><th style=\"text-align: right;\">  target</th></tr>\n",
       "</thead>\n",
       "<tbody>\n",
       "<tr><td style=\"text-align: right;\">0.222222 </td><td style=\"text-align: right;\"> 0.625   </td><td style=\"text-align: right;\">0.0677966</td><td style=\"text-align: right;\">       0</td></tr>\n",
       "<tr><td style=\"text-align: right;\">0.166667 </td><td style=\"text-align: right;\"> 0.416667</td><td style=\"text-align: right;\">0.0677966</td><td style=\"text-align: right;\">       0</td></tr>\n",
       "<tr><td style=\"text-align: right;\">0.111111 </td><td style=\"text-align: right;\"> 0.5     </td><td style=\"text-align: right;\">0.0508475</td><td style=\"text-align: right;\">       0</td></tr>\n",
       "<tr><td style=\"text-align: right;\">0.0833333</td><td style=\"text-align: right;\"> 0.458333</td><td style=\"text-align: right;\">0.0847458</td><td style=\"text-align: right;\">       0</td></tr>\n",
       "<tr><td style=\"text-align: right;\">0.194444 </td><td style=\"text-align: right;\"> 0.666667</td><td style=\"text-align: right;\">0.0677966</td><td style=\"text-align: right;\">       0</td></tr>\n",
       "<tr><td style=\"text-align: right;\">0.305556 </td><td style=\"text-align: right;\"> 0.791667</td><td style=\"text-align: right;\">0.118644 </td><td style=\"text-align: right;\">       0</td></tr>\n",
       "<tr><td style=\"text-align: right;\">0.0833333</td><td style=\"text-align: right;\"> 0.583333</td><td style=\"text-align: right;\">0.0677966</td><td style=\"text-align: right;\">       0</td></tr>\n",
       "<tr><td style=\"text-align: right;\">0.194444 </td><td style=\"text-align: right;\"> 0.583333</td><td style=\"text-align: right;\">0.0847458</td><td style=\"text-align: right;\">       0</td></tr>\n",
       "<tr><td style=\"text-align: right;\">0.0277778</td><td style=\"text-align: right;\"> 0.375   </td><td style=\"text-align: right;\">0.0677966</td><td style=\"text-align: right;\">       0</td></tr>\n",
       "<tr><td style=\"text-align: right;\">0.166667 </td><td style=\"text-align: right;\"> 0.458333</td><td style=\"text-align: right;\">0.0847458</td><td style=\"text-align: right;\">       0</td></tr>\n",
       "</tbody>\n",
       "</table>"
      ]
     },
     "metadata": {},
     "output_type": "display_data"
    },
    {
     "data": {
      "text/plain": []
     },
     "execution_count": 42,
     "metadata": {},
     "output_type": "execute_result"
    }
   ],
   "source": [
    "h2oframe.head()"
   ]
  },
  {
   "cell_type": "markdown",
   "metadata": {},
   "source": [
    "## 3.1 Partición de train, test y validación"
   ]
  },
  {
   "cell_type": "code",
   "execution_count": 43,
   "metadata": {},
   "outputs": [],
   "source": [
    "h2oframe['target'] = h2oframe['target'].asfactor()"
   ]
  },
  {
   "cell_type": "code",
   "execution_count": 44,
   "metadata": {},
   "outputs": [],
   "source": [
    "train_df, test_df,val_df = h2oframe.split_frame(\n",
    "                                ratios=[0.75,0.15],\n",
    "                                destination_frames=['train_df','test_df','val_df'] ,\n",
    "                                seed=566) "
   ]
  },
  {
   "cell_type": "code",
   "execution_count": 45,
   "metadata": {},
   "outputs": [
    {
     "data": {
      "text/html": [
       "<table>\n",
       "<thead>\n",
       "<tr><th style=\"text-align: right;\">  sepal_l</th><th style=\"text-align: right;\">  sepal_w</th><th style=\"text-align: right;\">  petal_l</th><th style=\"text-align: right;\">  target</th></tr>\n",
       "</thead>\n",
       "<tbody>\n",
       "<tr><td style=\"text-align: right;\">0.222222 </td><td style=\"text-align: right;\"> 0.625   </td><td style=\"text-align: right;\">0.0677966</td><td style=\"text-align: right;\">       0</td></tr>\n",
       "<tr><td style=\"text-align: right;\">0.166667 </td><td style=\"text-align: right;\"> 0.416667</td><td style=\"text-align: right;\">0.0677966</td><td style=\"text-align: right;\">       0</td></tr>\n",
       "<tr><td style=\"text-align: right;\">0.0833333</td><td style=\"text-align: right;\"> 0.458333</td><td style=\"text-align: right;\">0.0847458</td><td style=\"text-align: right;\">       0</td></tr>\n",
       "<tr><td style=\"text-align: right;\">0.194444 </td><td style=\"text-align: right;\"> 0.666667</td><td style=\"text-align: right;\">0.0677966</td><td style=\"text-align: right;\">       0</td></tr>\n",
       "<tr><td style=\"text-align: right;\">0.0833333</td><td style=\"text-align: right;\"> 0.583333</td><td style=\"text-align: right;\">0.0677966</td><td style=\"text-align: right;\">       0</td></tr>\n",
       "<tr><td style=\"text-align: right;\">0.0277778</td><td style=\"text-align: right;\"> 0.375   </td><td style=\"text-align: right;\">0.0677966</td><td style=\"text-align: right;\">       0</td></tr>\n",
       "<tr><td style=\"text-align: right;\">0.166667 </td><td style=\"text-align: right;\"> 0.458333</td><td style=\"text-align: right;\">0.0847458</td><td style=\"text-align: right;\">       0</td></tr>\n",
       "<tr><td style=\"text-align: right;\">0.305556 </td><td style=\"text-align: right;\"> 0.708333</td><td style=\"text-align: right;\">0.0847458</td><td style=\"text-align: right;\">       0</td></tr>\n",
       "<tr><td style=\"text-align: right;\">0.138889 </td><td style=\"text-align: right;\"> 0.583333</td><td style=\"text-align: right;\">0.101695 </td><td style=\"text-align: right;\">       0</td></tr>\n",
       "<tr><td style=\"text-align: right;\">0.138889 </td><td style=\"text-align: right;\"> 0.416667</td><td style=\"text-align: right;\">0.0677966</td><td style=\"text-align: right;\">       0</td></tr>\n",
       "</tbody>\n",
       "</table>"
      ]
     },
     "metadata": {},
     "output_type": "display_data"
    },
    {
     "data": {
      "text/plain": []
     },
     "execution_count": 45,
     "metadata": {},
     "output_type": "execute_result"
    }
   ],
   "source": [
    "train_df.head()"
   ]
  },
  {
   "cell_type": "code",
   "execution_count": 46,
   "metadata": {},
   "outputs": [],
   "source": [
    "## Nos quedamos con los nombres, los vamos a necesitar luego\n",
    "\n",
    "x = h2oframe.columns\n",
    "y = \"target\"\n",
    "x.remove(y)"
   ]
  },
  {
   "cell_type": "code",
   "execution_count": 47,
   "metadata": {},
   "outputs": [
    {
     "data": {
      "text/plain": [
       "['sepal_l', 'sepal_w', 'petal_l']"
      ]
     },
     "execution_count": 47,
     "metadata": {},
     "output_type": "execute_result"
    }
   ],
   "source": [
    "x"
   ]
  },
  {
   "cell_type": "code",
   "execution_count": 48,
   "metadata": {},
   "outputs": [
    {
     "data": {
      "text/plain": [
       "'target'"
      ]
     },
     "execution_count": 48,
     "metadata": {},
     "output_type": "execute_result"
    }
   ],
   "source": [
    "y"
   ]
  },
  {
   "cell_type": "markdown",
   "metadata": {},
   "source": [
    "## 3.2 Búsqueda de hiperparámetros\n",
    "\n",
    " Si bien para modelos más complejos se puede plantear una búsqueda de hiperparámetros basados en optimización bayesiana, vamos a realizar la búsqueda usando un Grid Search por la simplicidad del modelo.\n",
    " "
   ]
  },
  {
   "cell_type": "markdown",
   "metadata": {},
   "source": [
    "### Regresión\n",
    "\n",
    "Vamos a realizar una regresión en la que buscaremos los valores óptimos para la regularización, y además utilizaremos validación cruzada para evaluar el modelo sobre 10 particiones del dataset, lo que nos permite verificar si existe sobreajuste o no en el modelo. Según el resultado que se obtiene, el modelo que mehor ha funcionado es el modelo que aplica una regularización mixta de alpha 1 y lambda 0.01, (podría considerarse como una regularización Lasso). "
   ]
  },
  {
   "cell_type": "code",
   "execution_count": 52,
   "metadata": {},
   "outputs": [],
   "source": [
    "from h2o.grid.grid_search import H2OGridSearch\n",
    "from h2o.estimators.glm import H2OGeneralizedLinearEstimator\n"
   ]
  },
  {
   "cell_type": "code",
   "execution_count": 53,
   "metadata": {},
   "outputs": [
    {
     "name": "stdout",
     "output_type": "stream",
     "text": [
      "glm Grid Build progress: |███████████████████████████████████████████████████████| (done) 100%\n",
      "      alpha  lambda                                                model_ids  \\\n",
      "0      1.00    0.01  Grid_GLM_train_df_model_python_1712732595960_1_model_10   \n",
      "1      0.50    0.01   Grid_GLM_train_df_model_python_1712732595960_1_model_9   \n",
      "2      0.25    0.01   Grid_GLM_train_df_model_python_1712732595960_1_model_8   \n",
      "3      0.00    0.01   Grid_GLM_train_df_model_python_1712732595960_1_model_6   \n",
      "4      0.01    0.01   Grid_GLM_train_df_model_python_1712732595960_1_model_7   \n",
      "5      1.00    0.05  Grid_GLM_train_df_model_python_1712732595960_1_model_15   \n",
      "6      0.00    0.05  Grid_GLM_train_df_model_python_1712732595960_1_model_11   \n",
      "7      0.01    0.05  Grid_GLM_train_df_model_python_1712732595960_1_model_12   \n",
      "8      0.25    0.05  Grid_GLM_train_df_model_python_1712732595960_1_model_13   \n",
      "9      0.50    0.05  Grid_GLM_train_df_model_python_1712732595960_1_model_14   \n",
      "10     0.01    0.00   Grid_GLM_train_df_model_python_1712732595960_1_model_2   \n",
      "11     0.25    0.00   Grid_GLM_train_df_model_python_1712732595960_1_model_3   \n",
      "12     0.50    0.00   Grid_GLM_train_df_model_python_1712732595960_1_model_4   \n",
      "13     1.00    0.00   Grid_GLM_train_df_model_python_1712732595960_1_model_5   \n",
      "14     0.00    0.00   Grid_GLM_train_df_model_python_1712732595960_1_model_1   \n",
      "15     0.00    0.10  Grid_GLM_train_df_model_python_1712732595960_1_model_16   \n",
      "16     0.01    0.10  Grid_GLM_train_df_model_python_1712732595960_1_model_17   \n",
      "17     0.25    0.10  Grid_GLM_train_df_model_python_1712732595960_1_model_18   \n",
      "18     0.50    0.10  Grid_GLM_train_df_model_python_1712732595960_1_model_19   \n",
      "19     1.00    0.10  Grid_GLM_train_df_model_python_1712732595960_1_model_20   \n",
      "20     0.00    0.25  Grid_GLM_train_df_model_python_1712732595960_1_model_21   \n",
      "21     0.01    0.25  Grid_GLM_train_df_model_python_1712732595960_1_model_22   \n",
      "22     0.25    0.25  Grid_GLM_train_df_model_python_1712732595960_1_model_23   \n",
      "23     0.00    0.50  Grid_GLM_train_df_model_python_1712732595960_1_model_26   \n",
      "24     0.01    0.50  Grid_GLM_train_df_model_python_1712732595960_1_model_27   \n",
      "25     0.50    0.25  Grid_GLM_train_df_model_python_1712732595960_1_model_24   \n",
      "26     0.00    1.00  Grid_GLM_train_df_model_python_1712732595960_1_model_31   \n",
      "27     0.01    1.00  Grid_GLM_train_df_model_python_1712732595960_1_model_32   \n",
      "28     0.25    0.50  Grid_GLM_train_df_model_python_1712732595960_1_model_28   \n",
      "29     1.00    0.25  Grid_GLM_train_df_model_python_1712732595960_1_model_25   \n",
      "30     0.50    0.50  Grid_GLM_train_df_model_python_1712732595960_1_model_29   \n",
      "31     1.00    0.50  Grid_GLM_train_df_model_python_1712732595960_1_model_30   \n",
      "32     0.25    1.00  Grid_GLM_train_df_model_python_1712732595960_1_model_33   \n",
      "33     0.50    1.00  Grid_GLM_train_df_model_python_1712732595960_1_model_34   \n",
      "34     1.00    1.00  Grid_GLM_train_df_model_python_1712732595960_1_model_35   \n",
      "\n",
      "     logloss  \n",
      "0   0.143635  \n",
      "1   0.223208  \n",
      "2   0.239050  \n",
      "3   0.248423  \n",
      "4   0.248604  \n",
      "5   0.356729  \n",
      "6   0.391388  \n",
      "7   0.391869  \n",
      "8   0.392315  \n",
      "9   0.393017  \n",
      "10  0.427779  \n",
      "11  0.427779  \n",
      "12  0.427779  \n",
      "13  0.427779  \n",
      "14  0.429775  \n",
      "15  0.459431  \n",
      "16  0.460321  \n",
      "17  0.473442  \n",
      "18  0.492884  \n",
      "19  0.522018  \n",
      "20  0.574572  \n",
      "21  0.575779  \n",
      "22  0.632213  \n",
      "23  0.685505  \n",
      "24  0.688700  \n",
      "25  0.751598  \n",
      "26  0.806949  \n",
      "27  0.814195  \n",
      "28  0.854861  \n",
      "29  1.098062  \n",
      "30  1.098062  \n",
      "31  1.098062  \n",
      "32  1.098062  \n",
      "33  1.098062  \n",
      "34  1.098062  \n"
     ]
    },
    {
     "data": {
      "text/plain": []
     },
     "execution_count": 53,
     "metadata": {},
     "output_type": "execute_result"
    }
   ],
   "source": [
    "hyper_parameters = {'alpha': [0,0.01,0.25,0.5,1], 'lambda': [0,0.01,0.05,0.1,0.25,0.5,1]}\n",
    "\n",
    "gs = H2OGridSearch(H2OGeneralizedLinearEstimator(family='multinomial'),\n",
    "                    hyper_parameters)\n",
    "gs.train(x=x, y=y, training_frame=train_df, validation_frame = test_df,stopping_metric=\"misclassification\",stopping_rounds=3,seed=123, nfolds=10)"
   ]
  },
  {
   "cell_type": "code",
   "execution_count": 54,
   "metadata": {},
   "outputs": [
    {
     "name": "stdout",
     "output_type": "stream",
     "text": [
      "      alpha  lambda                                                model_ids  \\\n",
      "0      1.00    0.01  Grid_GLM_train_df_model_python_1712732595960_1_model_10   \n",
      "1      0.50    0.01   Grid_GLM_train_df_model_python_1712732595960_1_model_9   \n",
      "2      0.25    0.01   Grid_GLM_train_df_model_python_1712732595960_1_model_8   \n",
      "3      0.00    0.01   Grid_GLM_train_df_model_python_1712732595960_1_model_6   \n",
      "4      0.01    0.01   Grid_GLM_train_df_model_python_1712732595960_1_model_7   \n",
      "5      1.00    0.05  Grid_GLM_train_df_model_python_1712732595960_1_model_15   \n",
      "6      0.00    0.05  Grid_GLM_train_df_model_python_1712732595960_1_model_11   \n",
      "7      0.01    0.05  Grid_GLM_train_df_model_python_1712732595960_1_model_12   \n",
      "8      0.25    0.05  Grid_GLM_train_df_model_python_1712732595960_1_model_13   \n",
      "9      0.50    0.05  Grid_GLM_train_df_model_python_1712732595960_1_model_14   \n",
      "10     0.01    0.00   Grid_GLM_train_df_model_python_1712732595960_1_model_2   \n",
      "11     0.25    0.00   Grid_GLM_train_df_model_python_1712732595960_1_model_3   \n",
      "12     0.50    0.00   Grid_GLM_train_df_model_python_1712732595960_1_model_4   \n",
      "13     1.00    0.00   Grid_GLM_train_df_model_python_1712732595960_1_model_5   \n",
      "14     0.00    0.00   Grid_GLM_train_df_model_python_1712732595960_1_model_1   \n",
      "15     0.00    0.10  Grid_GLM_train_df_model_python_1712732595960_1_model_16   \n",
      "16     0.01    0.10  Grid_GLM_train_df_model_python_1712732595960_1_model_17   \n",
      "17     0.25    0.10  Grid_GLM_train_df_model_python_1712732595960_1_model_18   \n",
      "18     0.50    0.10  Grid_GLM_train_df_model_python_1712732595960_1_model_19   \n",
      "19     1.00    0.10  Grid_GLM_train_df_model_python_1712732595960_1_model_20   \n",
      "20     0.00    0.25  Grid_GLM_train_df_model_python_1712732595960_1_model_21   \n",
      "21     0.01    0.25  Grid_GLM_train_df_model_python_1712732595960_1_model_22   \n",
      "22     0.25    0.25  Grid_GLM_train_df_model_python_1712732595960_1_model_23   \n",
      "23     0.00    0.50  Grid_GLM_train_df_model_python_1712732595960_1_model_26   \n",
      "24     0.01    0.50  Grid_GLM_train_df_model_python_1712732595960_1_model_27   \n",
      "25     0.50    0.25  Grid_GLM_train_df_model_python_1712732595960_1_model_24   \n",
      "26     0.00    1.00  Grid_GLM_train_df_model_python_1712732595960_1_model_31   \n",
      "27     0.01    1.00  Grid_GLM_train_df_model_python_1712732595960_1_model_32   \n",
      "28     0.25    0.50  Grid_GLM_train_df_model_python_1712732595960_1_model_28   \n",
      "29     1.00    0.25  Grid_GLM_train_df_model_python_1712732595960_1_model_25   \n",
      "30     0.50    0.50  Grid_GLM_train_df_model_python_1712732595960_1_model_29   \n",
      "31     1.00    0.50  Grid_GLM_train_df_model_python_1712732595960_1_model_30   \n",
      "32     0.25    1.00  Grid_GLM_train_df_model_python_1712732595960_1_model_33   \n",
      "33     0.50    1.00  Grid_GLM_train_df_model_python_1712732595960_1_model_34   \n",
      "34     1.00    1.00  Grid_GLM_train_df_model_python_1712732595960_1_model_35   \n",
      "\n",
      "     logloss  \n",
      "0   0.143635  \n",
      "1   0.223208  \n",
      "2   0.239050  \n",
      "3   0.248423  \n",
      "4   0.248604  \n",
      "5   0.356729  \n",
      "6   0.391388  \n",
      "7   0.391869  \n",
      "8   0.392315  \n",
      "9   0.393017  \n",
      "10  0.427779  \n",
      "11  0.427779  \n",
      "12  0.427779  \n",
      "13  0.427779  \n",
      "14  0.429775  \n",
      "15  0.459431  \n",
      "16  0.460321  \n",
      "17  0.473442  \n",
      "18  0.492884  \n",
      "19  0.522018  \n",
      "20  0.574572  \n",
      "21  0.575779  \n",
      "22  0.632213  \n",
      "23  0.685505  \n",
      "24  0.688700  \n",
      "25  0.751598  \n",
      "26  0.806949  \n",
      "27  0.814195  \n",
      "28  0.854861  \n",
      "29  1.098062  \n",
      "30  1.098062  \n",
      "31  1.098062  \n",
      "32  1.098062  \n",
      "33  1.098062  \n",
      "34  1.098062  \n"
     ]
    },
    {
     "data": {
      "text/plain": []
     },
     "execution_count": 54,
     "metadata": {},
     "output_type": "execute_result"
    }
   ],
   "source": [
    "gs"
   ]
  },
  {
   "cell_type": "code",
   "execution_count": 55,
   "metadata": {},
   "outputs": [],
   "source": [
    "model = gs[0]"
   ]
  },
  {
   "cell_type": "markdown",
   "metadata": {},
   "source": [
    "## Descripción del modelo\n",
    "H2o proporciona información detallada sobre el rendimiento del modelo  con diferentes métricas, sobre cada una de las particiones de validación durante la validación cruzada, en el momento del entrenamiento. Seguidamente se detallan las obtenidas."
   ]
  },
  {
   "cell_type": "code",
   "execution_count": 56,
   "metadata": {},
   "outputs": [
    {
     "name": "stdout",
     "output_type": "stream",
     "text": [
      "Model Details\n",
      "=============\n",
      "H2OGeneralizedLinearEstimator :  Generalized Linear Modeling\n",
      "Model Key:  Grid_GLM_train_df_model_python_1712732595960_1_model_10\n",
      "\n",
      "\n",
      "GLM Model: summary\n"
     ]
    },
    {
     "data": {
      "text/html": [
       "<div>\n",
       "<style scoped>\n",
       "    .dataframe tbody tr th:only-of-type {\n",
       "        vertical-align: middle;\n",
       "    }\n",
       "\n",
       "    .dataframe tbody tr th {\n",
       "        vertical-align: top;\n",
       "    }\n",
       "\n",
       "    .dataframe thead th {\n",
       "        text-align: right;\n",
       "    }\n",
       "</style>\n",
       "<table border=\"1\" class=\"dataframe\">\n",
       "  <thead>\n",
       "    <tr style=\"text-align: right;\">\n",
       "      <th></th>\n",
       "      <th></th>\n",
       "      <th>family</th>\n",
       "      <th>link</th>\n",
       "      <th>regularization</th>\n",
       "      <th>number_of_predictors_total</th>\n",
       "      <th>number_of_active_predictors</th>\n",
       "      <th>number_of_iterations</th>\n",
       "      <th>training_frame</th>\n",
       "    </tr>\n",
       "  </thead>\n",
       "  <tbody>\n",
       "    <tr>\n",
       "      <th>0</th>\n",
       "      <td></td>\n",
       "      <td>multinomial</td>\n",
       "      <td>multinomial</td>\n",
       "      <td>Lasso (lambda = 0.01 )</td>\n",
       "      <td>12</td>\n",
       "      <td>4</td>\n",
       "      <td>50</td>\n",
       "      <td>train_df</td>\n",
       "    </tr>\n",
       "  </tbody>\n",
       "</table>\n",
       "</div>"
      ],
      "text/plain": [
       "          family         link          regularization  \\\n",
       "0    multinomial  multinomial  Lasso (lambda = 0.01 )   \n",
       "\n",
       "   number_of_predictors_total number_of_active_predictors  \\\n",
       "0                          12                           4   \n",
       "\n",
       "   number_of_iterations training_frame  \n",
       "0                    50       train_df  "
      ]
     },
     "metadata": {},
     "output_type": "display_data"
    },
    {
     "name": "stdout",
     "output_type": "stream",
     "text": [
      "\n",
      "\n",
      "ModelMetricsMultinomialGLM: glm\n",
      "** Reported on train data. **\n",
      "\n",
      "MSE: 0.02832885655540655\n",
      "RMSE: 0.16831178376871464\n",
      "\n",
      "ModelMetricsMultinomialGLM: glm\n",
      "** Reported on validation data. **\n",
      "\n",
      "MSE: 0.08910813154411004\n",
      "RMSE: 0.2985098516701083\n",
      "\n",
      "ModelMetricsMultinomialGLM: glm\n",
      "** Reported on cross-validation data. **\n",
      "\n",
      "MSE: 0.03585180222352597\n",
      "RMSE: 0.18934572142915185\n",
      "\n",
      "Cross-Validation Metrics Summary: \n"
     ]
    },
    {
     "data": {
      "text/html": [
       "<div>\n",
       "<style scoped>\n",
       "    .dataframe tbody tr th:only-of-type {\n",
       "        vertical-align: middle;\n",
       "    }\n",
       "\n",
       "    .dataframe tbody tr th {\n",
       "        vertical-align: top;\n",
       "    }\n",
       "\n",
       "    .dataframe thead th {\n",
       "        text-align: right;\n",
       "    }\n",
       "</style>\n",
       "<table border=\"1\" class=\"dataframe\">\n",
       "  <thead>\n",
       "    <tr style=\"text-align: right;\">\n",
       "      <th></th>\n",
       "      <th></th>\n",
       "      <th>mean</th>\n",
       "      <th>sd</th>\n",
       "      <th>cv_1_valid</th>\n",
       "      <th>cv_2_valid</th>\n",
       "      <th>cv_3_valid</th>\n",
       "      <th>cv_4_valid</th>\n",
       "      <th>cv_5_valid</th>\n",
       "      <th>cv_6_valid</th>\n",
       "      <th>cv_7_valid</th>\n",
       "      <th>cv_8_valid</th>\n",
       "      <th>cv_9_valid</th>\n",
       "      <th>cv_10_valid</th>\n",
       "    </tr>\n",
       "  </thead>\n",
       "  <tbody>\n",
       "    <tr>\n",
       "      <th>0</th>\n",
       "      <td>accuracy</td>\n",
       "      <td>0.950711</td>\n",
       "      <td>0.089330</td>\n",
       "      <td>1.000000</td>\n",
       "      <td>0.941176</td>\n",
       "      <td>1.000000</td>\n",
       "      <td>0.928571</td>\n",
       "      <td>1.000000</td>\n",
       "      <td>0.714286</td>\n",
       "      <td>1.000000</td>\n",
       "      <td>1.000000</td>\n",
       "      <td>0.923077</td>\n",
       "      <td>1.000000</td>\n",
       "    </tr>\n",
       "    <tr>\n",
       "      <th>1</th>\n",
       "      <td>auc</td>\n",
       "      <td>NaN</td>\n",
       "      <td>0.000000</td>\n",
       "      <td>NaN</td>\n",
       "      <td>NaN</td>\n",
       "      <td>NaN</td>\n",
       "      <td>NaN</td>\n",
       "      <td>NaN</td>\n",
       "      <td>NaN</td>\n",
       "      <td>NaN</td>\n",
       "      <td>NaN</td>\n",
       "      <td>NaN</td>\n",
       "      <td>NaN</td>\n",
       "    </tr>\n",
       "    <tr>\n",
       "      <th>2</th>\n",
       "      <td>err</td>\n",
       "      <td>0.049289</td>\n",
       "      <td>0.089330</td>\n",
       "      <td>0.000000</td>\n",
       "      <td>0.058824</td>\n",
       "      <td>0.000000</td>\n",
       "      <td>0.071429</td>\n",
       "      <td>0.000000</td>\n",
       "      <td>0.285714</td>\n",
       "      <td>0.000000</td>\n",
       "      <td>0.000000</td>\n",
       "      <td>0.076923</td>\n",
       "      <td>0.000000</td>\n",
       "    </tr>\n",
       "    <tr>\n",
       "      <th>3</th>\n",
       "      <td>err_count</td>\n",
       "      <td>0.500000</td>\n",
       "      <td>0.707107</td>\n",
       "      <td>0.000000</td>\n",
       "      <td>1.000000</td>\n",
       "      <td>0.000000</td>\n",
       "      <td>1.000000</td>\n",
       "      <td>0.000000</td>\n",
       "      <td>2.000000</td>\n",
       "      <td>0.000000</td>\n",
       "      <td>0.000000</td>\n",
       "      <td>1.000000</td>\n",
       "      <td>0.000000</td>\n",
       "    </tr>\n",
       "    <tr>\n",
       "      <th>4</th>\n",
       "      <td>logloss</td>\n",
       "      <td>0.164335</td>\n",
       "      <td>0.114450</td>\n",
       "      <td>0.084094</td>\n",
       "      <td>0.179682</td>\n",
       "      <td>0.037416</td>\n",
       "      <td>0.131150</td>\n",
       "      <td>0.299720</td>\n",
       "      <td>0.408220</td>\n",
       "      <td>0.083209</td>\n",
       "      <td>0.071590</td>\n",
       "      <td>0.194400</td>\n",
       "      <td>0.153873</td>\n",
       "    </tr>\n",
       "    <tr>\n",
       "      <th>5</th>\n",
       "      <td>max_per_class_error</td>\n",
       "      <td>0.116667</td>\n",
       "      <td>0.172133</td>\n",
       "      <td>0.000000</td>\n",
       "      <td>0.250000</td>\n",
       "      <td>0.000000</td>\n",
       "      <td>0.250000</td>\n",
       "      <td>0.000000</td>\n",
       "      <td>0.500000</td>\n",
       "      <td>0.000000</td>\n",
       "      <td>0.000000</td>\n",
       "      <td>0.166667</td>\n",
       "      <td>0.000000</td>\n",
       "    </tr>\n",
       "    <tr>\n",
       "      <th>6</th>\n",
       "      <td>mean_per_class_accuracy</td>\n",
       "      <td>0.961111</td>\n",
       "      <td>0.057378</td>\n",
       "      <td>1.000000</td>\n",
       "      <td>0.916667</td>\n",
       "      <td>1.000000</td>\n",
       "      <td>0.916667</td>\n",
       "      <td>1.000000</td>\n",
       "      <td>0.833333</td>\n",
       "      <td>1.000000</td>\n",
       "      <td>1.000000</td>\n",
       "      <td>0.944444</td>\n",
       "      <td>1.000000</td>\n",
       "    </tr>\n",
       "    <tr>\n",
       "      <th>7</th>\n",
       "      <td>mean_per_class_error</td>\n",
       "      <td>0.038889</td>\n",
       "      <td>0.057378</td>\n",
       "      <td>0.000000</td>\n",
       "      <td>0.083333</td>\n",
       "      <td>0.000000</td>\n",
       "      <td>0.083333</td>\n",
       "      <td>0.000000</td>\n",
       "      <td>0.166667</td>\n",
       "      <td>0.000000</td>\n",
       "      <td>0.000000</td>\n",
       "      <td>0.055556</td>\n",
       "      <td>0.000000</td>\n",
       "    </tr>\n",
       "    <tr>\n",
       "      <th>8</th>\n",
       "      <td>mse</td>\n",
       "      <td>0.042750</td>\n",
       "      <td>0.041185</td>\n",
       "      <td>0.012498</td>\n",
       "      <td>0.044120</td>\n",
       "      <td>0.001944</td>\n",
       "      <td>0.036579</td>\n",
       "      <td>0.084514</td>\n",
       "      <td>0.138761</td>\n",
       "      <td>0.016396</td>\n",
       "      <td>0.015138</td>\n",
       "      <td>0.048635</td>\n",
       "      <td>0.028910</td>\n",
       "    </tr>\n",
       "    <tr>\n",
       "      <th>9</th>\n",
       "      <td>null_deviance</td>\n",
       "      <td>25.525112</td>\n",
       "      <td>9.550964</td>\n",
       "      <td>23.010601</td>\n",
       "      <td>37.553080</td>\n",
       "      <td>22.314137</td>\n",
       "      <td>30.915623</td>\n",
       "      <td>8.981669</td>\n",
       "      <td>15.896752</td>\n",
       "      <td>32.629314</td>\n",
       "      <td>37.266502</td>\n",
       "      <td>29.102386</td>\n",
       "      <td>17.581062</td>\n",
       "    </tr>\n",
       "    <tr>\n",
       "      <th>10</th>\n",
       "      <td>pr_auc</td>\n",
       "      <td>NaN</td>\n",
       "      <td>0.000000</td>\n",
       "      <td>NaN</td>\n",
       "      <td>NaN</td>\n",
       "      <td>NaN</td>\n",
       "      <td>NaN</td>\n",
       "      <td>NaN</td>\n",
       "      <td>NaN</td>\n",
       "      <td>NaN</td>\n",
       "      <td>NaN</td>\n",
       "      <td>NaN</td>\n",
       "      <td>NaN</td>\n",
       "    </tr>\n",
       "    <tr>\n",
       "      <th>11</th>\n",
       "      <td>r2</td>\n",
       "      <td>0.900405</td>\n",
       "      <td>0.110772</td>\n",
       "      <td>0.947924</td>\n",
       "      <td>0.916113</td>\n",
       "      <td>0.997569</td>\n",
       "      <td>0.948789</td>\n",
       "      <td>0.661944</td>\n",
       "      <td>0.738488</td>\n",
       "      <td>0.975654</td>\n",
       "      <td>0.975627</td>\n",
       "      <td>0.899764</td>\n",
       "      <td>0.942180</td>\n",
       "    </tr>\n",
       "    <tr>\n",
       "      <th>12</th>\n",
       "      <td>residual_deviance</td>\n",
       "      <td>3.246150</td>\n",
       "      <td>1.810979</td>\n",
       "      <td>1.681876</td>\n",
       "      <td>6.109177</td>\n",
       "      <td>0.748314</td>\n",
       "      <td>3.672209</td>\n",
       "      <td>2.397756</td>\n",
       "      <td>5.715075</td>\n",
       "      <td>2.329842</td>\n",
       "      <td>2.290891</td>\n",
       "      <td>5.054402</td>\n",
       "      <td>2.461962</td>\n",
       "    </tr>\n",
       "    <tr>\n",
       "      <th>13</th>\n",
       "      <td>rmse</td>\n",
       "      <td>0.186206</td>\n",
       "      <td>0.094733</td>\n",
       "      <td>0.111795</td>\n",
       "      <td>0.210049</td>\n",
       "      <td>0.044095</td>\n",
       "      <td>0.191257</td>\n",
       "      <td>0.290713</td>\n",
       "      <td>0.372507</td>\n",
       "      <td>0.128047</td>\n",
       "      <td>0.123036</td>\n",
       "      <td>0.220534</td>\n",
       "      <td>0.170030</td>\n",
       "    </tr>\n",
       "  </tbody>\n",
       "</table>\n",
       "</div>"
      ],
      "text/plain": [
       "                                  mean        sd  cv_1_valid  cv_2_valid  \\\n",
       "0                  accuracy   0.950711  0.089330    1.000000    0.941176   \n",
       "1                       auc        NaN  0.000000         NaN         NaN   \n",
       "2                       err   0.049289  0.089330    0.000000    0.058824   \n",
       "3                 err_count   0.500000  0.707107    0.000000    1.000000   \n",
       "4                   logloss   0.164335  0.114450    0.084094    0.179682   \n",
       "5       max_per_class_error   0.116667  0.172133    0.000000    0.250000   \n",
       "6   mean_per_class_accuracy   0.961111  0.057378    1.000000    0.916667   \n",
       "7      mean_per_class_error   0.038889  0.057378    0.000000    0.083333   \n",
       "8                       mse   0.042750  0.041185    0.012498    0.044120   \n",
       "9             null_deviance  25.525112  9.550964   23.010601   37.553080   \n",
       "10                   pr_auc        NaN  0.000000         NaN         NaN   \n",
       "11                       r2   0.900405  0.110772    0.947924    0.916113   \n",
       "12        residual_deviance   3.246150  1.810979    1.681876    6.109177   \n",
       "13                     rmse   0.186206  0.094733    0.111795    0.210049   \n",
       "\n",
       "    cv_3_valid  cv_4_valid  cv_5_valid  cv_6_valid  cv_7_valid  cv_8_valid  \\\n",
       "0     1.000000    0.928571    1.000000    0.714286    1.000000    1.000000   \n",
       "1          NaN         NaN         NaN         NaN         NaN         NaN   \n",
       "2     0.000000    0.071429    0.000000    0.285714    0.000000    0.000000   \n",
       "3     0.000000    1.000000    0.000000    2.000000    0.000000    0.000000   \n",
       "4     0.037416    0.131150    0.299720    0.408220    0.083209    0.071590   \n",
       "5     0.000000    0.250000    0.000000    0.500000    0.000000    0.000000   \n",
       "6     1.000000    0.916667    1.000000    0.833333    1.000000    1.000000   \n",
       "7     0.000000    0.083333    0.000000    0.166667    0.000000    0.000000   \n",
       "8     0.001944    0.036579    0.084514    0.138761    0.016396    0.015138   \n",
       "9    22.314137   30.915623    8.981669   15.896752   32.629314   37.266502   \n",
       "10         NaN         NaN         NaN         NaN         NaN         NaN   \n",
       "11    0.997569    0.948789    0.661944    0.738488    0.975654    0.975627   \n",
       "12    0.748314    3.672209    2.397756    5.715075    2.329842    2.290891   \n",
       "13    0.044095    0.191257    0.290713    0.372507    0.128047    0.123036   \n",
       "\n",
       "    cv_9_valid  cv_10_valid  \n",
       "0     0.923077     1.000000  \n",
       "1          NaN          NaN  \n",
       "2     0.076923     0.000000  \n",
       "3     1.000000     0.000000  \n",
       "4     0.194400     0.153873  \n",
       "5     0.166667     0.000000  \n",
       "6     0.944444     1.000000  \n",
       "7     0.055556     0.000000  \n",
       "8     0.048635     0.028910  \n",
       "9    29.102386    17.581062  \n",
       "10         NaN          NaN  \n",
       "11    0.899764     0.942180  \n",
       "12    5.054402     2.461962  \n",
       "13    0.220534     0.170030  "
      ]
     },
     "metadata": {},
     "output_type": "display_data"
    },
    {
     "name": "stdout",
     "output_type": "stream",
     "text": [
      "\n",
      "Scoring History: \n"
     ]
    },
    {
     "data": {
      "text/html": [
       "<div>\n",
       "<style scoped>\n",
       "    .dataframe tbody tr th:only-of-type {\n",
       "        vertical-align: middle;\n",
       "    }\n",
       "\n",
       "    .dataframe tbody tr th {\n",
       "        vertical-align: top;\n",
       "    }\n",
       "\n",
       "    .dataframe thead th {\n",
       "        text-align: right;\n",
       "    }\n",
       "</style>\n",
       "<table border=\"1\" class=\"dataframe\">\n",
       "  <thead>\n",
       "    <tr style=\"text-align: right;\">\n",
       "      <th></th>\n",
       "      <th></th>\n",
       "      <th>timestamp</th>\n",
       "      <th>duration</th>\n",
       "      <th>iterations</th>\n",
       "      <th>negative_log_likelihood</th>\n",
       "      <th>objective</th>\n",
       "      <th>training_rmse</th>\n",
       "      <th>training_logloss</th>\n",
       "      <th>training_r2</th>\n",
       "      <th>training_classification_error</th>\n",
       "      <th>training_auc</th>\n",
       "      <th>training_pr_auc</th>\n",
       "      <th>validation_rmse</th>\n",
       "      <th>validation_logloss</th>\n",
       "      <th>validation_r2</th>\n",
       "      <th>validation_classification_error</th>\n",
       "      <th>validation_auc</th>\n",
       "      <th>validation_pr_auc</th>\n",
       "    </tr>\n",
       "  </thead>\n",
       "  <tbody>\n",
       "    <tr>\n",
       "      <th>0</th>\n",
       "      <td></td>\n",
       "      <td>2024-04-10 07:04:25</td>\n",
       "      <td>0.000 sec</td>\n",
       "      <td>0</td>\n",
       "      <td>124.080963</td>\n",
       "      <td>1.098062</td>\n",
       "      <td></td>\n",
       "      <td></td>\n",
       "      <td></td>\n",
       "      <td></td>\n",
       "      <td></td>\n",
       "      <td></td>\n",
       "      <td></td>\n",
       "      <td></td>\n",
       "      <td></td>\n",
       "      <td></td>\n",
       "      <td></td>\n",
       "      <td></td>\n",
       "    </tr>\n",
       "    <tr>\n",
       "      <th>1</th>\n",
       "      <td></td>\n",
       "      <td>2024-04-10 07:04:25</td>\n",
       "      <td>0.002 sec</td>\n",
       "      <td>1</td>\n",
       "      <td>45.797954</td>\n",
       "      <td>0.456163</td>\n",
       "      <td></td>\n",
       "      <td></td>\n",
       "      <td></td>\n",
       "      <td></td>\n",
       "      <td></td>\n",
       "      <td></td>\n",
       "      <td></td>\n",
       "      <td></td>\n",
       "      <td></td>\n",
       "      <td></td>\n",
       "      <td></td>\n",
       "      <td></td>\n",
       "    </tr>\n",
       "    <tr>\n",
       "      <th>2</th>\n",
       "      <td></td>\n",
       "      <td>2024-04-10 07:04:25</td>\n",
       "      <td>0.004 sec</td>\n",
       "      <td>2</td>\n",
       "      <td>27.215882</td>\n",
       "      <td>0.327090</td>\n",
       "      <td></td>\n",
       "      <td></td>\n",
       "      <td></td>\n",
       "      <td></td>\n",
       "      <td></td>\n",
       "      <td></td>\n",
       "      <td></td>\n",
       "      <td></td>\n",
       "      <td></td>\n",
       "      <td></td>\n",
       "      <td></td>\n",
       "      <td></td>\n",
       "    </tr>\n",
       "    <tr>\n",
       "      <th>3</th>\n",
       "      <td></td>\n",
       "      <td>2024-04-10 07:04:25</td>\n",
       "      <td>0.005 sec</td>\n",
       "      <td>3</td>\n",
       "      <td>18.865353</td>\n",
       "      <td>0.281015</td>\n",
       "      <td></td>\n",
       "      <td></td>\n",
       "      <td></td>\n",
       "      <td></td>\n",
       "      <td></td>\n",
       "      <td></td>\n",
       "      <td></td>\n",
       "      <td></td>\n",
       "      <td></td>\n",
       "      <td></td>\n",
       "      <td></td>\n",
       "      <td></td>\n",
       "    </tr>\n",
       "    <tr>\n",
       "      <th>4</th>\n",
       "      <td></td>\n",
       "      <td>2024-04-10 07:04:25</td>\n",
       "      <td>0.007 sec</td>\n",
       "      <td>4</td>\n",
       "      <td>15.907656</td>\n",
       "      <td>0.268329</td>\n",
       "      <td></td>\n",
       "      <td></td>\n",
       "      <td></td>\n",
       "      <td></td>\n",
       "      <td></td>\n",
       "      <td></td>\n",
       "      <td></td>\n",
       "      <td></td>\n",
       "      <td></td>\n",
       "      <td></td>\n",
       "      <td></td>\n",
       "      <td></td>\n",
       "    </tr>\n",
       "    <tr>\n",
       "      <th>5</th>\n",
       "      <td></td>\n",
       "      <td>2024-04-10 07:04:25</td>\n",
       "      <td>0.009 sec</td>\n",
       "      <td>5</td>\n",
       "      <td>15.179440</td>\n",
       "      <td>0.262567</td>\n",
       "      <td></td>\n",
       "      <td></td>\n",
       "      <td></td>\n",
       "      <td></td>\n",
       "      <td></td>\n",
       "      <td></td>\n",
       "      <td></td>\n",
       "      <td></td>\n",
       "      <td></td>\n",
       "      <td></td>\n",
       "      <td></td>\n",
       "      <td></td>\n",
       "    </tr>\n",
       "    <tr>\n",
       "      <th>6</th>\n",
       "      <td></td>\n",
       "      <td>2024-04-10 07:04:25</td>\n",
       "      <td>0.011 sec</td>\n",
       "      <td>6</td>\n",
       "      <td>14.699704</td>\n",
       "      <td>0.259045</td>\n",
       "      <td></td>\n",
       "      <td></td>\n",
       "      <td></td>\n",
       "      <td></td>\n",
       "      <td></td>\n",
       "      <td></td>\n",
       "      <td></td>\n",
       "      <td></td>\n",
       "      <td></td>\n",
       "      <td></td>\n",
       "      <td></td>\n",
       "      <td></td>\n",
       "    </tr>\n",
       "    <tr>\n",
       "      <th>7</th>\n",
       "      <td></td>\n",
       "      <td>2024-04-10 07:04:25</td>\n",
       "      <td>0.013 sec</td>\n",
       "      <td>7</td>\n",
       "      <td>14.506671</td>\n",
       "      <td>0.258489</td>\n",
       "      <td></td>\n",
       "      <td></td>\n",
       "      <td></td>\n",
       "      <td></td>\n",
       "      <td></td>\n",
       "      <td></td>\n",
       "      <td></td>\n",
       "      <td></td>\n",
       "      <td></td>\n",
       "      <td></td>\n",
       "      <td></td>\n",
       "      <td></td>\n",
       "    </tr>\n",
       "    <tr>\n",
       "      <th>8</th>\n",
       "      <td></td>\n",
       "      <td>2024-04-10 07:04:25</td>\n",
       "      <td>0.014 sec</td>\n",
       "      <td>8</td>\n",
       "      <td>14.286725</td>\n",
       "      <td>0.258179</td>\n",
       "      <td></td>\n",
       "      <td></td>\n",
       "      <td></td>\n",
       "      <td></td>\n",
       "      <td></td>\n",
       "      <td></td>\n",
       "      <td></td>\n",
       "      <td></td>\n",
       "      <td></td>\n",
       "      <td></td>\n",
       "      <td></td>\n",
       "      <td></td>\n",
       "    </tr>\n",
       "    <tr>\n",
       "      <th>9</th>\n",
       "      <td></td>\n",
       "      <td>2024-04-10 07:04:25</td>\n",
       "      <td>0.016 sec</td>\n",
       "      <td>9</td>\n",
       "      <td>14.213549</td>\n",
       "      <td>0.257999</td>\n",
       "      <td></td>\n",
       "      <td></td>\n",
       "      <td></td>\n",
       "      <td></td>\n",
       "      <td></td>\n",
       "      <td></td>\n",
       "      <td></td>\n",
       "      <td></td>\n",
       "      <td></td>\n",
       "      <td></td>\n",
       "      <td></td>\n",
       "      <td></td>\n",
       "    </tr>\n",
       "    <tr>\n",
       "      <th>10</th>\n",
       "      <td></td>\n",
       "      <td>2024-04-10 07:04:25</td>\n",
       "      <td>0.018 sec</td>\n",
       "      <td>10</td>\n",
       "      <td>14.088878</td>\n",
       "      <td>0.257865</td>\n",
       "      <td></td>\n",
       "      <td></td>\n",
       "      <td></td>\n",
       "      <td></td>\n",
       "      <td></td>\n",
       "      <td></td>\n",
       "      <td></td>\n",
       "      <td></td>\n",
       "      <td></td>\n",
       "      <td></td>\n",
       "      <td></td>\n",
       "      <td></td>\n",
       "    </tr>\n",
       "    <tr>\n",
       "      <th>11</th>\n",
       "      <td></td>\n",
       "      <td>2024-04-10 07:04:25</td>\n",
       "      <td>0.020 sec</td>\n",
       "      <td>11</td>\n",
       "      <td>14.044143</td>\n",
       "      <td>0.257778</td>\n",
       "      <td></td>\n",
       "      <td></td>\n",
       "      <td></td>\n",
       "      <td></td>\n",
       "      <td></td>\n",
       "      <td></td>\n",
       "      <td></td>\n",
       "      <td></td>\n",
       "      <td></td>\n",
       "      <td></td>\n",
       "      <td></td>\n",
       "      <td></td>\n",
       "    </tr>\n",
       "    <tr>\n",
       "      <th>12</th>\n",
       "      <td></td>\n",
       "      <td>2024-04-10 07:04:25</td>\n",
       "      <td>0.024 sec</td>\n",
       "      <td>12</td>\n",
       "      <td>13.968987</td>\n",
       "      <td>0.257719</td>\n",
       "      <td></td>\n",
       "      <td></td>\n",
       "      <td></td>\n",
       "      <td></td>\n",
       "      <td></td>\n",
       "      <td></td>\n",
       "      <td></td>\n",
       "      <td></td>\n",
       "      <td></td>\n",
       "      <td></td>\n",
       "      <td></td>\n",
       "      <td></td>\n",
       "    </tr>\n",
       "    <tr>\n",
       "      <th>13</th>\n",
       "      <td></td>\n",
       "      <td>2024-04-10 07:04:25</td>\n",
       "      <td>0.027 sec</td>\n",
       "      <td>13</td>\n",
       "      <td>13.937731</td>\n",
       "      <td>0.257681</td>\n",
       "      <td></td>\n",
       "      <td></td>\n",
       "      <td></td>\n",
       "      <td></td>\n",
       "      <td></td>\n",
       "      <td></td>\n",
       "      <td></td>\n",
       "      <td></td>\n",
       "      <td></td>\n",
       "      <td></td>\n",
       "      <td></td>\n",
       "      <td></td>\n",
       "    </tr>\n",
       "    <tr>\n",
       "      <th>14</th>\n",
       "      <td></td>\n",
       "      <td>2024-04-10 07:04:25</td>\n",
       "      <td>0.029 sec</td>\n",
       "      <td>14</td>\n",
       "      <td>13.883411</td>\n",
       "      <td>0.257654</td>\n",
       "      <td></td>\n",
       "      <td></td>\n",
       "      <td></td>\n",
       "      <td></td>\n",
       "      <td></td>\n",
       "      <td></td>\n",
       "      <td></td>\n",
       "      <td></td>\n",
       "      <td></td>\n",
       "      <td></td>\n",
       "      <td></td>\n",
       "      <td></td>\n",
       "    </tr>\n",
       "    <tr>\n",
       "      <th>15</th>\n",
       "      <td></td>\n",
       "      <td>2024-04-10 07:04:25</td>\n",
       "      <td>0.032 sec</td>\n",
       "      <td>15</td>\n",
       "      <td>13.873587</td>\n",
       "      <td>0.257639</td>\n",
       "      <td></td>\n",
       "      <td></td>\n",
       "      <td></td>\n",
       "      <td></td>\n",
       "      <td></td>\n",
       "      <td></td>\n",
       "      <td></td>\n",
       "      <td></td>\n",
       "      <td></td>\n",
       "      <td></td>\n",
       "      <td></td>\n",
       "      <td></td>\n",
       "    </tr>\n",
       "    <tr>\n",
       "      <th>16</th>\n",
       "      <td></td>\n",
       "      <td>2024-04-10 07:04:25</td>\n",
       "      <td>0.035 sec</td>\n",
       "      <td>16</td>\n",
       "      <td>13.836611</td>\n",
       "      <td>0.257626</td>\n",
       "      <td></td>\n",
       "      <td></td>\n",
       "      <td></td>\n",
       "      <td></td>\n",
       "      <td></td>\n",
       "      <td></td>\n",
       "      <td></td>\n",
       "      <td></td>\n",
       "      <td></td>\n",
       "      <td></td>\n",
       "      <td></td>\n",
       "      <td></td>\n",
       "    </tr>\n",
       "    <tr>\n",
       "      <th>17</th>\n",
       "      <td></td>\n",
       "      <td>2024-04-10 07:04:25</td>\n",
       "      <td>0.037 sec</td>\n",
       "      <td>17</td>\n",
       "      <td>13.823208</td>\n",
       "      <td>0.257618</td>\n",
       "      <td></td>\n",
       "      <td></td>\n",
       "      <td></td>\n",
       "      <td></td>\n",
       "      <td></td>\n",
       "      <td></td>\n",
       "      <td></td>\n",
       "      <td></td>\n",
       "      <td></td>\n",
       "      <td></td>\n",
       "      <td></td>\n",
       "      <td></td>\n",
       "    </tr>\n",
       "    <tr>\n",
       "      <th>18</th>\n",
       "      <td></td>\n",
       "      <td>2024-04-10 07:04:25</td>\n",
       "      <td>0.040 sec</td>\n",
       "      <td>18</td>\n",
       "      <td>13.802842</td>\n",
       "      <td>0.257612</td>\n",
       "      <td></td>\n",
       "      <td></td>\n",
       "      <td></td>\n",
       "      <td></td>\n",
       "      <td></td>\n",
       "      <td></td>\n",
       "      <td></td>\n",
       "      <td></td>\n",
       "      <td></td>\n",
       "      <td></td>\n",
       "      <td></td>\n",
       "      <td></td>\n",
       "    </tr>\n",
       "    <tr>\n",
       "      <th>19</th>\n",
       "      <td></td>\n",
       "      <td>2024-04-10 07:04:25</td>\n",
       "      <td>0.043 sec</td>\n",
       "      <td>19</td>\n",
       "      <td>13.794219</td>\n",
       "      <td>0.257609</td>\n",
       "      <td></td>\n",
       "      <td></td>\n",
       "      <td></td>\n",
       "      <td></td>\n",
       "      <td></td>\n",
       "      <td></td>\n",
       "      <td></td>\n",
       "      <td></td>\n",
       "      <td></td>\n",
       "      <td></td>\n",
       "      <td></td>\n",
       "      <td></td>\n",
       "    </tr>\n",
       "  </tbody>\n",
       "</table>\n",
       "</div>"
      ],
      "text/plain": [
       "                timestamp    duration  iterations  negative_log_likelihood  \\\n",
       "0     2024-04-10 07:04:25   0.000 sec           0               124.080963   \n",
       "1     2024-04-10 07:04:25   0.002 sec           1                45.797954   \n",
       "2     2024-04-10 07:04:25   0.004 sec           2                27.215882   \n",
       "3     2024-04-10 07:04:25   0.005 sec           3                18.865353   \n",
       "4     2024-04-10 07:04:25   0.007 sec           4                15.907656   \n",
       "5     2024-04-10 07:04:25   0.009 sec           5                15.179440   \n",
       "6     2024-04-10 07:04:25   0.011 sec           6                14.699704   \n",
       "7     2024-04-10 07:04:25   0.013 sec           7                14.506671   \n",
       "8     2024-04-10 07:04:25   0.014 sec           8                14.286725   \n",
       "9     2024-04-10 07:04:25   0.016 sec           9                14.213549   \n",
       "10    2024-04-10 07:04:25   0.018 sec          10                14.088878   \n",
       "11    2024-04-10 07:04:25   0.020 sec          11                14.044143   \n",
       "12    2024-04-10 07:04:25   0.024 sec          12                13.968987   \n",
       "13    2024-04-10 07:04:25   0.027 sec          13                13.937731   \n",
       "14    2024-04-10 07:04:25   0.029 sec          14                13.883411   \n",
       "15    2024-04-10 07:04:25   0.032 sec          15                13.873587   \n",
       "16    2024-04-10 07:04:25   0.035 sec          16                13.836611   \n",
       "17    2024-04-10 07:04:25   0.037 sec          17                13.823208   \n",
       "18    2024-04-10 07:04:25   0.040 sec          18                13.802842   \n",
       "19    2024-04-10 07:04:25   0.043 sec          19                13.794219   \n",
       "\n",
       "    objective training_rmse training_logloss training_r2  \\\n",
       "0    1.098062                                              \n",
       "1    0.456163                                              \n",
       "2    0.327090                                              \n",
       "3    0.281015                                              \n",
       "4    0.268329                                              \n",
       "5    0.262567                                              \n",
       "6    0.259045                                              \n",
       "7    0.258489                                              \n",
       "8    0.258179                                              \n",
       "9    0.257999                                              \n",
       "10   0.257865                                              \n",
       "11   0.257778                                              \n",
       "12   0.257719                                              \n",
       "13   0.257681                                              \n",
       "14   0.257654                                              \n",
       "15   0.257639                                              \n",
       "16   0.257626                                              \n",
       "17   0.257618                                              \n",
       "18   0.257612                                              \n",
       "19   0.257609                                              \n",
       "\n",
       "   training_classification_error training_auc training_pr_auc validation_rmse  \\\n",
       "0                                                                               \n",
       "1                                                                               \n",
       "2                                                                               \n",
       "3                                                                               \n",
       "4                                                                               \n",
       "5                                                                               \n",
       "6                                                                               \n",
       "7                                                                               \n",
       "8                                                                               \n",
       "9                                                                               \n",
       "10                                                                              \n",
       "11                                                                              \n",
       "12                                                                              \n",
       "13                                                                              \n",
       "14                                                                              \n",
       "15                                                                              \n",
       "16                                                                              \n",
       "17                                                                              \n",
       "18                                                                              \n",
       "19                                                                              \n",
       "\n",
       "   validation_logloss validation_r2 validation_classification_error  \\\n",
       "0                                                                     \n",
       "1                                                                     \n",
       "2                                                                     \n",
       "3                                                                     \n",
       "4                                                                     \n",
       "5                                                                     \n",
       "6                                                                     \n",
       "7                                                                     \n",
       "8                                                                     \n",
       "9                                                                     \n",
       "10                                                                    \n",
       "11                                                                    \n",
       "12                                                                    \n",
       "13                                                                    \n",
       "14                                                                    \n",
       "15                                                                    \n",
       "16                                                                    \n",
       "17                                                                    \n",
       "18                                                                    \n",
       "19                                                                    \n",
       "\n",
       "   validation_auc validation_pr_auc  \n",
       "0                                    \n",
       "1                                    \n",
       "2                                    \n",
       "3                                    \n",
       "4                                    \n",
       "5                                    \n",
       "6                                    \n",
       "7                                    \n",
       "8                                    \n",
       "9                                    \n",
       "10                                   \n",
       "11                                   \n",
       "12                                   \n",
       "13                                   \n",
       "14                                   \n",
       "15                                   \n",
       "16                                   \n",
       "17                                   \n",
       "18                                   \n",
       "19                                   "
      ]
     },
     "metadata": {},
     "output_type": "display_data"
    },
    {
     "name": "stdout",
     "output_type": "stream",
     "text": [
      "\n",
      "See the whole table with table.as_data_frame()\n",
      "\n",
      "Variable Importances: \n"
     ]
    },
    {
     "data": {
      "text/html": [
       "<div>\n",
       "<style scoped>\n",
       "    .dataframe tbody tr th:only-of-type {\n",
       "        vertical-align: middle;\n",
       "    }\n",
       "\n",
       "    .dataframe tbody tr th {\n",
       "        vertical-align: top;\n",
       "    }\n",
       "\n",
       "    .dataframe thead th {\n",
       "        text-align: right;\n",
       "    }\n",
       "</style>\n",
       "<table border=\"1\" class=\"dataframe\">\n",
       "  <thead>\n",
       "    <tr style=\"text-align: right;\">\n",
       "      <th></th>\n",
       "      <th>variable</th>\n",
       "      <th>relative_importance</th>\n",
       "      <th>scaled_importance</th>\n",
       "      <th>percentage</th>\n",
       "    </tr>\n",
       "  </thead>\n",
       "  <tbody>\n",
       "    <tr>\n",
       "      <th>0</th>\n",
       "      <td>petal_l</td>\n",
       "      <td>12.178642</td>\n",
       "      <td>1.000000</td>\n",
       "      <td>0.895951</td>\n",
       "    </tr>\n",
       "    <tr>\n",
       "      <th>1</th>\n",
       "      <td>sepal_w</td>\n",
       "      <td>0.965970</td>\n",
       "      <td>0.079317</td>\n",
       "      <td>0.071064</td>\n",
       "    </tr>\n",
       "    <tr>\n",
       "      <th>2</th>\n",
       "      <td>sepal_l</td>\n",
       "      <td>0.448364</td>\n",
       "      <td>0.036816</td>\n",
       "      <td>0.032985</td>\n",
       "    </tr>\n",
       "  </tbody>\n",
       "</table>\n",
       "</div>"
      ],
      "text/plain": [
       "  variable  relative_importance  scaled_importance  percentage\n",
       "0  petal_l            12.178642           1.000000    0.895951\n",
       "1  sepal_w             0.965970           0.079317    0.071064\n",
       "2  sepal_l             0.448364           0.036816    0.032985"
      ]
     },
     "metadata": {},
     "output_type": "display_data"
    },
    {
     "data": {
      "text/plain": []
     },
     "execution_count": 56,
     "metadata": {},
     "output_type": "execute_result"
    }
   ],
   "source": [
    "model"
   ]
  },
  {
   "cell_type": "markdown",
   "metadata": {},
   "source": [
    "## Principales métricas del modelo"
   ]
  },
  {
   "cell_type": "code",
   "execution_count": 57,
   "metadata": {},
   "outputs": [
    {
     "data": {
      "text/html": [
       "<div>\n",
       "<style scoped>\n",
       "    .dataframe tbody tr th:only-of-type {\n",
       "        vertical-align: middle;\n",
       "    }\n",
       "\n",
       "    .dataframe tbody tr th {\n",
       "        vertical-align: top;\n",
       "    }\n",
       "\n",
       "    .dataframe thead th {\n",
       "        text-align: right;\n",
       "    }\n",
       "</style>\n",
       "<table border=\"1\" class=\"dataframe\">\n",
       "  <thead>\n",
       "    <tr style=\"text-align: right;\">\n",
       "      <th></th>\n",
       "      <th>error</th>\n",
       "      <th>error_medio_por_clase</th>\n",
       "      <th>MSE</th>\n",
       "    </tr>\n",
       "  </thead>\n",
       "  <tbody>\n",
       "    <tr>\n",
       "      <th>0</th>\n",
       "      <td>0.026549</td>\n",
       "      <td>0.027066</td>\n",
       "      <td>0.028329</td>\n",
       "    </tr>\n",
       "  </tbody>\n",
       "</table>\n",
       "</div>"
      ],
      "text/plain": [
       "      error  error_medio_por_clase       MSE\n",
       "0  0.026549               0.027066  0.028329"
      ]
     },
     "execution_count": 57,
     "metadata": {},
     "output_type": "execute_result"
    }
   ],
   "source": [
    "performance = pd.DataFrame({'error': float(3/113),\n",
    "                      'error_medio_por_clase': model.mean_per_class_error(),\n",
    "                        'MSE': model.mse()},index=[0])\n",
    "performance"
   ]
  },
  {
   "cell_type": "markdown",
   "metadata": {},
   "source": [
    "## Análisis de la matriz de confusión sobre train y test"
   ]
  },
  {
   "cell_type": "code",
   "execution_count": 58,
   "metadata": {},
   "outputs": [
    {
     "name": "stdout",
     "output_type": "stream",
     "text": [
      "\n",
      "Confusion Matrix: Row labels: Actual class; Column labels: Predicted class\n"
     ]
    },
    {
     "data": {
      "text/html": [
       "<div>\n",
       "<style scoped>\n",
       "    .dataframe tbody tr th:only-of-type {\n",
       "        vertical-align: middle;\n",
       "    }\n",
       "\n",
       "    .dataframe tbody tr th {\n",
       "        vertical-align: top;\n",
       "    }\n",
       "\n",
       "    .dataframe thead th {\n",
       "        text-align: right;\n",
       "    }\n",
       "</style>\n",
       "<table border=\"1\" class=\"dataframe\">\n",
       "  <thead>\n",
       "    <tr style=\"text-align: right;\">\n",
       "      <th></th>\n",
       "      <th>0</th>\n",
       "      <th>1</th>\n",
       "      <th>2</th>\n",
       "      <th>Error</th>\n",
       "      <th>Rate</th>\n",
       "    </tr>\n",
       "  </thead>\n",
       "  <tbody>\n",
       "    <tr>\n",
       "      <th>0</th>\n",
       "      <td>38.0</td>\n",
       "      <td>0.0</td>\n",
       "      <td>0.0</td>\n",
       "      <td>0.000000</td>\n",
       "      <td>0 / 38</td>\n",
       "    </tr>\n",
       "    <tr>\n",
       "      <th>1</th>\n",
       "      <td>0.0</td>\n",
       "      <td>38.0</td>\n",
       "      <td>1.0</td>\n",
       "      <td>0.025641</td>\n",
       "      <td>1 / 39</td>\n",
       "    </tr>\n",
       "    <tr>\n",
       "      <th>2</th>\n",
       "      <td>0.0</td>\n",
       "      <td>2.0</td>\n",
       "      <td>34.0</td>\n",
       "      <td>0.055556</td>\n",
       "      <td>2 / 36</td>\n",
       "    </tr>\n",
       "    <tr>\n",
       "      <th>3</th>\n",
       "      <td>38.0</td>\n",
       "      <td>40.0</td>\n",
       "      <td>35.0</td>\n",
       "      <td>0.026549</td>\n",
       "      <td>3 / 113</td>\n",
       "    </tr>\n",
       "  </tbody>\n",
       "</table>\n",
       "</div>"
      ],
      "text/plain": [
       "      0     1     2     Error     Rate\n",
       "0  38.0   0.0   0.0  0.000000   0 / 38\n",
       "1   0.0  38.0   1.0  0.025641   1 / 39\n",
       "2   0.0   2.0  34.0  0.055556   2 / 36\n",
       "3  38.0  40.0  35.0  0.026549  3 / 113"
      ]
     },
     "metadata": {},
     "output_type": "display_data"
    },
    {
     "data": {
      "text/plain": []
     },
     "execution_count": 58,
     "metadata": {},
     "output_type": "execute_result"
    }
   ],
   "source": [
    "model.confusion_matrix(train_df)"
   ]
  },
  {
   "cell_type": "code",
   "execution_count": 59,
   "metadata": {},
   "outputs": [
    {
     "name": "stdout",
     "output_type": "stream",
     "text": [
      "\n",
      "Confusion Matrix: Row labels: Actual class; Column labels: Predicted class\n"
     ]
    },
    {
     "data": {
      "text/html": [
       "<div>\n",
       "<style scoped>\n",
       "    .dataframe tbody tr th:only-of-type {\n",
       "        vertical-align: middle;\n",
       "    }\n",
       "\n",
       "    .dataframe tbody tr th {\n",
       "        vertical-align: top;\n",
       "    }\n",
       "\n",
       "    .dataframe thead th {\n",
       "        text-align: right;\n",
       "    }\n",
       "</style>\n",
       "<table border=\"1\" class=\"dataframe\">\n",
       "  <thead>\n",
       "    <tr style=\"text-align: right;\">\n",
       "      <th></th>\n",
       "      <th>0</th>\n",
       "      <th>1</th>\n",
       "      <th>2</th>\n",
       "      <th>Error</th>\n",
       "      <th>Rate</th>\n",
       "    </tr>\n",
       "  </thead>\n",
       "  <tbody>\n",
       "    <tr>\n",
       "      <th>0</th>\n",
       "      <td>6.0</td>\n",
       "      <td>0.0</td>\n",
       "      <td>0.0</td>\n",
       "      <td>0.000000</td>\n",
       "      <td>0 / 6</td>\n",
       "    </tr>\n",
       "    <tr>\n",
       "      <th>1</th>\n",
       "      <td>0.0</td>\n",
       "      <td>7.0</td>\n",
       "      <td>1.0</td>\n",
       "      <td>0.125000</td>\n",
       "      <td>1 / 8</td>\n",
       "    </tr>\n",
       "    <tr>\n",
       "      <th>2</th>\n",
       "      <td>0.0</td>\n",
       "      <td>2.0</td>\n",
       "      <td>7.0</td>\n",
       "      <td>0.222222</td>\n",
       "      <td>2 / 9</td>\n",
       "    </tr>\n",
       "    <tr>\n",
       "      <th>3</th>\n",
       "      <td>6.0</td>\n",
       "      <td>9.0</td>\n",
       "      <td>8.0</td>\n",
       "      <td>0.130435</td>\n",
       "      <td>3 / 23</td>\n",
       "    </tr>\n",
       "  </tbody>\n",
       "</table>\n",
       "</div>"
      ],
      "text/plain": [
       "     0    1    2     Error    Rate\n",
       "0  6.0  0.0  0.0  0.000000   0 / 6\n",
       "1  0.0  7.0  1.0  0.125000   1 / 8\n",
       "2  0.0  2.0  7.0  0.222222   2 / 9\n",
       "3  6.0  9.0  8.0  0.130435  3 / 23"
      ]
     },
     "metadata": {},
     "output_type": "display_data"
    },
    {
     "data": {
      "text/plain": []
     },
     "execution_count": 59,
     "metadata": {},
     "output_type": "execute_result"
    }
   ],
   "source": [
    "model.confusion_matrix(test_df)"
   ]
  },
  {
   "cell_type": "markdown",
   "metadata": {},
   "source": [
    "Como expusimos con anterioridad, la **clase 0 era fácilmente discriminable**, produciéndose los errores en las clases 1 y 2. Por este motivo, *el error medio por clase es menor a la tasa de error del modelo*"
   ]
  },
  {
   "cell_type": "markdown",
   "metadata": {},
   "source": [
    "### Guardamos el modelo"
   ]
  },
  {
   "cell_type": "code",
   "execution_count": 60,
   "metadata": {},
   "outputs": [
    {
     "data": {
      "text/plain": [
       "'/home/cmoragoncorella/practica_composer/regresion/Grid_GLM_train_df_model_python_1712732595960_1_model_10.zip'"
      ]
     },
     "execution_count": 60,
     "metadata": {},
     "output_type": "execute_result"
    }
   ],
   "source": [
    "model.save_mojo('./regresion')"
   ]
  },
  {
   "cell_type": "markdown",
   "metadata": {},
   "source": [
    "## Cargamos el modelo y evaluamos con el frame de validación"
   ]
  },
  {
   "cell_type": "code",
   "execution_count": 61,
   "metadata": {},
   "outputs": [
    {
     "ename": "H2OValueError",
     "evalue": "File /home/jupyter/pocs/pocs-op/data/regresion/Grid_GLM_train_df_model_python_1639753920647_18_model_10.zip does not exist",
     "output_type": "error",
     "traceback": [
      "\u001b[0;31m---------------------------------------------------------------------------\u001b[0m",
      "\u001b[0;31mH2OValueError\u001b[0m                             Traceback (most recent call last)",
      "\u001b[1;32m/home/cmoragoncorella/practica_composer/ejemplo_basico_clasificacion_h2o (1).ipynb Cell 95\u001b[0m line \u001b[0;36m1\n\u001b[0;32m----> <a href='vscode-notebook-cell://970-cs-858896235464-default.cs-europe-west1-iuzs.cloudshell.dev/home/cmoragoncorella/practica_composer/ejemplo_basico_clasificacion_h2o%20%281%29.ipynb#Y162sdnNjb2RlLXJlbW90ZQ%3D%3D?line=0'>1</a>\u001b[0m modelo \u001b[39m=\u001b[39m h2o\u001b[39m.\u001b[39;49mupload_mojo(\u001b[39m'\u001b[39;49m\u001b[39m/home/jupyter/pocs/pocs-op/data/regresion/Grid_GLM_train_df_model_python_1639753920647_18_model_10.zip\u001b[39;49m\u001b[39m'\u001b[39;49m)\n",
      "File \u001b[0;32m~/.local/lib/python3.9/site-packages/h2o/h2o.py:2276\u001b[0m, in \u001b[0;36mupload_mojo\u001b[0;34m(mojo_path, model_id)\u001b[0m\n\u001b[1;32m   2256\u001b[0m \u001b[39mdef\u001b[39;00m \u001b[39mupload_mojo\u001b[39m(mojo_path, model_id\u001b[39m=\u001b[39m\u001b[39mNone\u001b[39;00m):\n\u001b[1;32m   2257\u001b[0m \u001b[39m    \u001b[39m\u001b[39m\"\"\"\u001b[39;00m\n\u001b[1;32m   2258\u001b[0m \u001b[39m    Uploads an existing MOJO model from local filesystem into H2O and imports it as an H2O Generic Model. \u001b[39;00m\n\u001b[1;32m   2259\u001b[0m \n\u001b[0;32m   (...)\u001b[0m\n\u001b[1;32m   2274\u001b[0m \u001b[39m    >>> mojo_model = h2o.upload_mojo(original_model_filename)\u001b[39;00m\n\u001b[1;32m   2275\u001b[0m \u001b[39m    \"\"\"\u001b[39;00m\n\u001b[0;32m-> 2276\u001b[0m     response \u001b[39m=\u001b[39m api(\u001b[39m\"\u001b[39;49m\u001b[39mPOST /3/PostFile\u001b[39;49m\u001b[39m\"\u001b[39;49m, filename\u001b[39m=\u001b[39;49mmojo_path)\n\u001b[1;32m   2277\u001b[0m     frame_key \u001b[39m=\u001b[39m response[\u001b[39m\"\u001b[39m\u001b[39mdestination_frame\u001b[39m\u001b[39m\"\u001b[39m]\n\u001b[1;32m   2278\u001b[0m     mojo_estimator \u001b[39m=\u001b[39m H2OGenericEstimator(model_key\u001b[39m=\u001b[39mget_frame(frame_key), model_id\u001b[39m=\u001b[39mmodel_id)\n",
      "File \u001b[0;32m~/.local/lib/python3.9/site-packages/h2o/h2o.py:124\u001b[0m, in \u001b[0;36mapi\u001b[0;34m(endpoint, data, json, filename, save_to)\u001b[0m\n\u001b[1;32m    122\u001b[0m \u001b[39m# type checks are performed in H2OConnection class\u001b[39;00m\n\u001b[1;32m    123\u001b[0m _check_connection()\n\u001b[0;32m--> 124\u001b[0m \u001b[39mreturn\u001b[39;00m h2oconn\u001b[39m.\u001b[39;49mrequest(endpoint, data\u001b[39m=\u001b[39;49mdata, json\u001b[39m=\u001b[39;49mjson, filename\u001b[39m=\u001b[39;49mfilename, save_to\u001b[39m=\u001b[39;49msave_to)\n",
      "File \u001b[0;32m~/.local/lib/python3.9/site-packages/h2o/backend/connection.py:453\u001b[0m, in \u001b[0;36mH2OConnection.request\u001b[0;34m(self, endpoint, data, json, filename, save_to)\u001b[0m\n\u001b[1;32m    450\u001b[0m     assert_is_type(json, \u001b[39mdict\u001b[39m)\n\u001b[1;32m    452\u001b[0m data \u001b[39m=\u001b[39m \u001b[39mself\u001b[39m\u001b[39m.\u001b[39m_prepare_data_payload(data)\n\u001b[0;32m--> 453\u001b[0m files \u001b[39m=\u001b[39m \u001b[39mself\u001b[39;49m\u001b[39m.\u001b[39;49m_prepare_file_payload(filename)\n\u001b[1;32m    454\u001b[0m params \u001b[39m=\u001b[39m \u001b[39mNone\u001b[39;00m\n\u001b[1;32m    455\u001b[0m \u001b[39mif\u001b[39;00m (method \u001b[39m==\u001b[39m \u001b[39m\"\u001b[39m\u001b[39mGET\u001b[39m\u001b[39m\"\u001b[39m \u001b[39mor\u001b[39;00m method \u001b[39m==\u001b[39m \u001b[39m\"\u001b[39m\u001b[39mDELETE\u001b[39m\u001b[39m\"\u001b[39m) \u001b[39mand\u001b[39;00m data:\n",
      "File \u001b[0;32m~/.local/lib/python3.9/site-packages/h2o/backend/connection.py:728\u001b[0m, in \u001b[0;36mH2OConnection._prepare_file_payload\u001b[0;34m(filename)\u001b[0m\n\u001b[1;32m    726\u001b[0m absfilename \u001b[39m=\u001b[39m os\u001b[39m.\u001b[39mpath\u001b[39m.\u001b[39mabspath(filename)\n\u001b[1;32m    727\u001b[0m \u001b[39mif\u001b[39;00m \u001b[39mnot\u001b[39;00m os\u001b[39m.\u001b[39mpath\u001b[39m.\u001b[39mexists(absfilename):\n\u001b[0;32m--> 728\u001b[0m     \u001b[39mraise\u001b[39;00m H2OValueError(\u001b[39m\"\u001b[39m\u001b[39mFile \u001b[39m\u001b[39m%s\u001b[39;00m\u001b[39m does not exist\u001b[39m\u001b[39m\"\u001b[39m \u001b[39m%\u001b[39m filename, skip_frames\u001b[39m=\u001b[39m\u001b[39m1\u001b[39m)\n\u001b[1;32m    729\u001b[0m \u001b[39mreturn\u001b[39;00m {os\u001b[39m.\u001b[39mpath\u001b[39m.\u001b[39mbasename(absfilename): \u001b[39mopen\u001b[39m(absfilename, \u001b[39m\"\u001b[39m\u001b[39mrb\u001b[39m\u001b[39m\"\u001b[39m)}\n",
      "\u001b[0;31mH2OValueError\u001b[0m: File /home/jupyter/pocs/pocs-op/data/regresion/Grid_GLM_train_df_model_python_1639753920647_18_model_10.zip does not exist"
     ]
    }
   ],
   "source": [
    "modelo = h2o.upload_mojo('/home/jupyter/pocs/pocs-op/data/regresion/Grid_GLM_train_df_model_python_1639753920647_18_model_10.zip')"
   ]
  },
  {
   "cell_type": "markdown",
   "metadata": {},
   "source": [
    "### Analizamos los datos en validación.\n"
   ]
  },
  {
   "cell_type": "markdown",
   "metadata": {},
   "source": [
    "Como se puede comprobar, hemos clasificado correctamente todos las instancias de los datos de validación. Esto no es significativo, al haber trabajado con muy pocos datos. No obstante los errores obtenidos en la validación cruzada y en test, hacen pensar que el modelo puede estar generalizando bien."
   ]
  },
  {
   "cell_type": "code",
   "execution_count": null,
   "metadata": {},
   "outputs": [
    {
     "name": "stdout",
     "output_type": "stream",
     "text": [
      "\n",
      "Confusion Matrix: Row labels: Actual class; Column labels: Predicted class\n"
     ]
    },
    {
     "data": {
      "text/html": [
       "<div>\n",
       "<style scoped>\n",
       "    .dataframe tbody tr th:only-of-type {\n",
       "        vertical-align: middle;\n",
       "    }\n",
       "\n",
       "    .dataframe tbody tr th {\n",
       "        vertical-align: top;\n",
       "    }\n",
       "\n",
       "    .dataframe thead th {\n",
       "        text-align: right;\n",
       "    }\n",
       "</style>\n",
       "<table border=\"1\" class=\"dataframe\">\n",
       "  <thead>\n",
       "    <tr style=\"text-align: right;\">\n",
       "      <th></th>\n",
       "      <th>0</th>\n",
       "      <th>1</th>\n",
       "      <th>2</th>\n",
       "      <th>Error</th>\n",
       "      <th>Rate</th>\n",
       "    </tr>\n",
       "  </thead>\n",
       "  <tbody>\n",
       "    <tr>\n",
       "      <th>0</th>\n",
       "      <td>3.0</td>\n",
       "      <td>0.0</td>\n",
       "      <td>0.0</td>\n",
       "      <td>0.0</td>\n",
       "      <td>0 / 3</td>\n",
       "    </tr>\n",
       "    <tr>\n",
       "      <th>1</th>\n",
       "      <td>0.0</td>\n",
       "      <td>3.0</td>\n",
       "      <td>0.0</td>\n",
       "      <td>0.0</td>\n",
       "      <td>0 / 3</td>\n",
       "    </tr>\n",
       "    <tr>\n",
       "      <th>2</th>\n",
       "      <td>0.0</td>\n",
       "      <td>0.0</td>\n",
       "      <td>2.0</td>\n",
       "      <td>0.0</td>\n",
       "      <td>0 / 2</td>\n",
       "    </tr>\n",
       "    <tr>\n",
       "      <th>3</th>\n",
       "      <td>3.0</td>\n",
       "      <td>3.0</td>\n",
       "      <td>2.0</td>\n",
       "      <td>0.0</td>\n",
       "      <td>0 / 8</td>\n",
       "    </tr>\n",
       "  </tbody>\n",
       "</table>\n",
       "</div>"
      ],
      "text/plain": [
       "     0    1    2  Error   Rate\n",
       "0  3.0  0.0  0.0    0.0  0 / 3\n",
       "1  0.0  3.0  0.0    0.0  0 / 3\n",
       "2  0.0  0.0  2.0    0.0  0 / 2\n",
       "3  3.0  3.0  2.0    0.0  0 / 8"
      ]
     },
     "metadata": {},
     "output_type": "display_data"
    },
    {
     "data": {
      "text/plain": []
     },
     "execution_count": 608,
     "metadata": {},
     "output_type": "execute_result"
    }
   ],
   "source": [
    "model.confusion_matrix(val_df)"
   ]
  },
  {
   "cell_type": "markdown",
   "metadata": {},
   "source": []
  },
  {
   "cell_type": "markdown",
   "metadata": {},
   "source": [
    " ====================================== **EOF** ====================================="
   ]
  },
  {
   "cell_type": "code",
   "execution_count": null,
   "metadata": {},
   "outputs": [],
   "source": []
  }
 ],
 "metadata": {
  "environment": {
   "name": "common-cpu.m46",
   "type": "gcloud",
   "uri": "gcr.io/deeplearning-platform-release/base-cpu:m46"
  },
  "kernelspec": {
   "display_name": "Python 3",
   "language": "python",
   "name": "python3"
  },
  "language_info": {
   "codemirror_mode": {
    "name": "ipython",
    "version": 3
   },
   "file_extension": ".py",
   "mimetype": "text/x-python",
   "name": "python",
   "nbconvert_exporter": "python",
   "pygments_lexer": "ipython3",
   "version": "3.9.2"
  }
 },
 "nbformat": 4,
 "nbformat_minor": 4
}
